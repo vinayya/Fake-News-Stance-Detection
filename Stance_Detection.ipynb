{
 "cells": [
  {
   "cell_type": "markdown",
   "metadata": {},
   "source": [
    "## Loading the important Libraries"
   ]
  },
  {
   "cell_type": "code",
   "execution_count": 1,
   "metadata": {},
   "outputs": [],
   "source": [
    "import csv\n",
    "import math\n",
    "import matplotlib.pyplot as plt\n",
    "import numpy as np\n",
    "import random\n",
    "import re\n",
    "from collections import defaultdict\n",
    "from data.scorer import score_submission, print_confusion_matrix, score_defaults, SCORE_REPORT\n",
    "from nltk import word_tokenize\n",
    "from nltk.corpus import stopwords\n",
    "from tqdm import tqdm\n",
    "from sklearn.metrics import accuracy_score"
   ]
  },
  {
   "cell_type": "markdown",
   "metadata": {},
   "source": [
    "# Loading the contents"
   ]
  },
  {
   "cell_type": "code",
   "execution_count": 2,
   "metadata": {},
   "outputs": [],
   "source": [
    "f_bodies = open('data/train_bodies.csv', 'r', encoding='utf-8')\n",
    "csv_bodies = csv.DictReader(f_bodies)\n",
    "bodies = []\n",
    "for row in csv_bodies:\n",
    "    body_id = int(row['Body ID'])\n",
    "    if (body_id + 1) > len(bodies):\n",
    "        bodies += [None] * (body_id + 1 - len(bodies))\n",
    "    bodies[body_id] = row['articleBody']\n",
    "f_bodies.close()\n",
    "body_inverse_index = {bodies[i]: i for i in range(len(bodies))}\n",
    "\n",
    "all_unrelated, all_discuss, all_agree, all_disagree = [], [], [], []  # each article = (headline, body, stance)\n",
    "\n",
    "f_stances = open('data/train_stances.csv', 'r', encoding='utf-8')\n",
    "csv_stances = csv.DictReader(f_stances)\n",
    "for row in csv_stances:\n",
    "    body = bodies[int(row['Body ID'])]\n",
    "    if row['Stance'] == 'unrelated':\n",
    "        all_unrelated.append((row['Headline'], body, row['Stance']))\n",
    "    elif row['Stance'] == 'discuss':\n",
    "        all_discuss.append((row['Headline'], body, row['Stance']))\n",
    "    elif row['Stance'] == 'agree':\n",
    "        all_agree.append((row['Headline'], body, row['Stance']))\n",
    "    elif row['Stance'] == 'disagree':\n",
    "        all_disagree.append((row['Headline'], body, row['Stance']))\n",
    "f_stances.close()"
   ]
  },
  {
   "cell_type": "code",
   "execution_count": 3,
   "metadata": {},
   "outputs": [
    {
     "name": "stdout",
     "output_type": "stream",
     "text": [
      "\tUnrltd\tDiscuss\t Agree\tDisagree\n",
      "All\t 36545 \t 8909 \t 3678 \t 840\n",
      "\tUnrltd\tDiscuss\t Agree\tDisagree\n",
      "All\t 3654 \t 890 \t 367 \t 84\n"
     ]
    }
   ],
   "source": [
    "# Split to train and validation 9:1\n",
    "print('\\tUnrltd\\tDiscuss\\t Agree\\tDisagree')\n",
    "print('All\\t', len(all_unrelated), '\\t', len(all_discuss), '\\t', len(all_agree), '\\t', len(all_disagree))\n",
    "all_unrelated=all_unrelated[:len(all_unrelated)//10]\n",
    "all_discuss=all_discuss[:len(all_discuss)//10]\n",
    "all_agree=all_agree[:len(all_agree)//10]\n",
    "all_disagree=all_disagree[:len(all_disagree)//10]\n",
    "print('\\tUnrltd\\tDiscuss\\t Agree\\tDisagree')\n",
    "print('All\\t', len(all_unrelated), '\\t', len(all_discuss), '\\t', len(all_agree), '\\t', len(all_disagree))"
   ]
  },
  {
   "cell_type": "code",
   "execution_count": 4,
   "metadata": {},
   "outputs": [
    {
     "name": "stdout",
     "output_type": "stream",
     "text": [
      "Train\t 3288 \t 801 \t 330 \t 75\n",
      "Valid.\t 366 \t 89 \t 37 \t 9\n"
     ]
    }
   ],
   "source": [
    "\n",
    "train_unrelated = all_unrelated[:len(all_unrelated) * 9 // 10]\n",
    "train_discuss = all_discuss[:len(all_discuss) * 9 // 10]\n",
    "train_agree = all_agree[:len(all_agree) * 9 // 10]\n",
    "train_disagree = all_disagree[:len(all_disagree) * 9 // 10]\n",
    "\n",
    "val_unrelated = all_unrelated[len(all_unrelated) * 9 // 10:]\n",
    "val_discuss = all_discuss[len(all_discuss) * 9 // 10:]\n",
    "val_agree = all_agree[len(all_agree) * 9 // 10:]\n",
    "val_disagree = all_disagree[len(all_disagree) * 9 // 10:]\n",
    "\n",
    "print('Train\\t', len(train_unrelated), '\\t', len(train_discuss), '\\t', len(train_agree), '\\t', len(train_disagree))\n",
    "print('Valid.\\t', len(val_unrelated), '\\t', len(val_discuss), '\\t', len(val_agree), '\\t', len(val_disagree))"
   ]
  },
  {
   "cell_type": "markdown",
   "metadata": {},
   "source": [
    "# Uniform distribution of Data"
   ]
  },
  {
   "cell_type": "code",
   "execution_count": 5,
   "metadata": {},
   "outputs": [
    {
     "name": "stdout",
     "output_type": "stream",
     "text": [
      "Train (Total) (4494, 3) \tValidation (Total) (501, 3)\n",
      "3288 \t 801 \t 330 \t 75\n",
      "366 \t 89 \t 37 \t 9\n"
     ]
    }
   ],
   "source": [
    "train_all = train_unrelated + train_discuss + train_agree + train_disagree\n",
    "# each article = (headline, body, stance)\n",
    "random.Random(0).shuffle(train_all)\n",
    "train_all = np.array(train_all)\n",
    "\n",
    "val_all = val_unrelated + val_discuss + val_agree + val_disagree\n",
    "random.Random(0).shuffle(val_all)\n",
    "val_all = np.array(val_all)\n",
    "\n",
    "print('Train (Total)', train_all.shape, '\\tValidation (Total)', val_all.shape)\n",
    "print(np.count_nonzero(train_all[:, 2] == 'unrelated'), '\\t',\n",
    "      np.count_nonzero(train_all[:, 2] == 'discuss'), '\\t',\n",
    "      np.count_nonzero(train_all[:, 2] == 'agree'), '\\t',\n",
    "      np.count_nonzero(train_all[:, 2] == 'disagree'))\n",
    "print(np.count_nonzero(val_all[:, 2] == 'unrelated'), '\\t',\n",
    "      np.count_nonzero(val_all[:, 2] == 'discuss'), '\\t',\n",
    "      np.count_nonzero(val_all[:, 2] == 'agree'), '\\t',\n",
    "      np.count_nonzero(val_all[:, 2] == 'disagree'))"
   ]
  },
  {
   "cell_type": "code",
   "execution_count": 6,
   "metadata": {},
   "outputs": [
    {
     "name": "stdout",
     "output_type": "stream",
     "text": [
      "80's Brat Pack star Judd Nelson forced to deny that he's dead after fake news story starts trending on social media ['80s', 'brat', 'pack', 'star', 'judd', 'nelson', 'forced', 'deny', 'hes', 'dead', 'fake', 'news', 'story', 'starts', 'trending', 'social', 'media']\n",
      "ISIS Executioner 'Jihadi John' Is Named as Mohammed Emwazi ['isis', 'executioner', 'jihadi', 'john', 'named', 'mohammed', 'emwazi']\n",
      "Spider Burrows Into Australian Man's Appendix Scar (VIDEO) ['spider', 'burrows', 'australian', 'mans', 'appendix', 'scar', 'video']\n",
      "Wife, child of Islamic State head Abu Bakr al-Baghdadi held in Lebanon, officials say ['wife', 'child', 'islamic', 'state', 'head', 'abu', 'bakr', 'al', 'baghdadi', 'held', 'lebanon', 'officials', 'say']\n",
      "Sadly, Pumpkin Spice Condoms Aren't A Thing After All ['sadly', 'pumpkin', 'spice', 'condoms', 'arent', 'thing']\n",
      "Woman detained in Lebanon is not al-Baghdadi's wife, Iraq says ['woman', 'detained', 'lebanon', 'al', 'baghdadis', 'wife', 'iraq', 'says']\n",
      "Wildest Apple Watch rumor yet: 100,000 apps at launch ['wildest', 'apple', 'watch', 'rumor', 'yet', '100000', 'apps', 'launch']\n",
      "The Internet Tried To Make Axl Rose Its Latest Death Hoax Victim ['internet', 'tried', 'make', 'axl', 'rose', 'latest', 'death', 'hoax', 'victim']\n",
      "Sorry, KFC isn't going to be selling weed in Colorado restaurants ['sorry', 'kfc', 'isnt', 'going', 'selling', 'weed', 'colorado', 'restaurants']\n"
     ]
    }
   ],
   "source": [
    "# Tokenise text\n",
    "pattern = re.compile(\"[^a-zA-Z0-9 ]+\")  # strip punctuation, symbols, etc.\n",
    "stop_words = set(stopwords.words('english'))\n",
    "def tokenise(text):\n",
    "    text = pattern.sub('', text.replace('\\n', ' ').replace('-', ' ').lower())\n",
    "    text = [word for word in word_tokenize(text) if word not in stop_words]\n",
    "    return text\n",
    "\n",
    "for i in range(9):\n",
    "    print(train_all[i, 0], tokenise(train_all[i, 0]))"
   ]
  },
  {
   "cell_type": "code",
   "execution_count": 7,
   "metadata": {},
   "outputs": [
    {
     "name": "stdout",
     "output_type": "stream",
     "text": [
      "80's Brat Pack star Judd Nelson forced to deny that he's dead after fake news story starts trending on social media defaultdict(<class 'float'>, {'brat': 1.0, 'pack': 1.0, 'star': 1.0, 'judd': 1.0, 'nelson': 1.0, 'forced': 1.0, 'deny': 1.0, 'hes': 1.0, 'dead': 1.0, 'fake': 1.0, 'news': 1.0, 'story': 1.0, 'starts': 1.0, 'trending': 1.0, 'social': 1.0, 'media': 1.0})\n",
      "ISIS Executioner 'Jihadi John' Is Named as Mohammed Emwazi defaultdict(<class 'float'>, {'executioner': 1.0, 'jihadi': 1.0, 'john': 1.0, 'named': 1.0, 'mohammed': 1.0, 'emwazi': 1.0})\n",
      "Spider Burrows Into Australian Man's Appendix Scar (VIDEO) defaultdict(<class 'float'>, {'burrows': 1.0, 'australian': 1.0, 'mans': 1.0, 'appendix': 1.0, 'scar': 1.0, 'video': 1.0})\n",
      "Wife, child of Islamic State head Abu Bakr al-Baghdadi held in Lebanon, officials say defaultdict(<class 'float'>, {'child': 1.0, 'islamic': 1.0, 'state': 1.0, 'head': 1.0, 'abu': 1.0, 'bakr': 1.0, 'al': 1.0, 'baghdadi': 1.0, 'held': 1.0, 'lebanon': 1.0, 'officials': 1.0, 'say': 1.0})\n",
      "Sadly, Pumpkin Spice Condoms Aren't A Thing After All defaultdict(<class 'float'>, {'pumpkin': 1.0, 'spice': 1.0, 'condoms': 1.0, 'arent': 1.0, 'thing': 1.0})\n",
      "80's Brat Pack star Judd Nelson forced to deny that he's dead after fake news story starts trending on social media defaultdict(<class 'float'>, {('brat',): 1.0, ('pack',): 1.0, ('pack', 'brat'): 1.0, ('star',): 1.0, ('star', 'pack'): 1.0, ('judd',): 1.0, ('judd', 'star'): 1.0, ('nelson',): 1.0, ('nelson', 'judd'): 1.0, ('forced',): 1.0, ('forced', 'nelson'): 1.0, ('deny',): 1.0, ('deny', 'forced'): 1.0, ('hes',): 1.0, ('hes', 'deny'): 1.0, ('dead',): 1.0, ('dead', 'hes'): 1.0, ('fake',): 1.0, ('fake', 'dead'): 1.0, ('news',): 1.0, ('news', 'fake'): 1.0, ('story',): 1.0, ('story', 'news'): 1.0, ('starts',): 1.0, ('starts', 'story'): 1.0, ('trending',): 1.0, ('trending', 'starts'): 1.0, ('social',): 1.0, ('social', 'trending'): 1.0, ('media',): 1.0, ('media', 'social'): 1.0})\n"
     ]
    }
   ],
   "source": [
    "# Compute term-frequency of words in documents\n",
    "def doc_to_tf(text, ngram=1):\n",
    "    words = tokenise(text)\n",
    "    ret = defaultdict(float)\n",
    "    for i in range(len(words)):\n",
    "        for j in range(1, ngram+1):\n",
    "            if i - j < 0:\n",
    "                break\n",
    "            word = [words[i-k] for k in range(j)]\n",
    "            ret[word[0] if ngram == 1 else tuple(word)] += 1.0\n",
    "    return ret\n",
    "    \n",
    "for i in range(5):\n",
    "    print(train_all[i, 0], doc_to_tf(train_all[i, 0]))\n",
    "print(train_all[0, 0], doc_to_tf(train_all[0, 0], ngram=2))"
   ]
  },
  {
   "cell_type": "code",
   "execution_count": 8,
   "metadata": {},
   "outputs": [
    {
     "name": "stdout",
     "output_type": "stream",
     "text": [
      "Wife, child of Islamic State head Abu Bakr al-Baghdadi held in Lebanon, officials say\n",
      "New Delhi: AK Verma, an executive engineer at the Central Public Works Department, was fired after last appearing for work in December 1990.\n",
      "\"He went on seeking extension of leave, which was not sanctioned, and defied directions to report to work,\" the government said in a statement on Thursday.\n",
      "Even after an inquiry found him guilty of \"wilful absence from duty\" in 1992, it took another 22 years and the intervention of a cabinet minister to remove him, the government said.\n",
      "Government fires employee who skipped work for 24 years\n",
      "AK Verma, an executive engineer at the Central Public Works Department, was fired after last appearing for work in December 1990.\n",
      "#india #government job #ak verma #absence\n",
      "India's labour laws, which the World Bank says are the most restrictive anywhere, make it hard to sack staff for any reason other than criminal misconduct.\n",
      "States, led by Rajasthan and Madhya Pradesh, have recently changed the law to make it easier to hire and fire staff, in a move welcomed by industry leaders but opposed by labour unions.\n",
      "Prime Minister Narendra Modi has cracked down on rampant absenteeism by making New Delhi bureaucrats sign in at work using a fingerprint scanner. The results are publicly available online - at www.attendance.gov.in - in real time.\n"
     ]
    }
   ],
   "source": [
    "# Build corpus of article bodies and headlines in training dataset\n",
    "corpus = np.r_[train_all[:, 1], train_all[:, 0]]  # 0 to 44973 are bodies, 44974 to 89943 are headlines\n",
    "\n",
    "print(corpus[44974//10])\n",
    "print(corpus[0])"
   ]
  },
  {
   "cell_type": "code",
   "execution_count": 9,
   "metadata": {},
   "outputs": [
    {
     "name": "stderr",
     "output_type": "stream",
     "text": [
      "100%|██████████| 8988/8988 [00:10<00:00, 834.38it/s] "
     ]
    },
    {
     "name": "stdout",
     "output_type": "stream",
     "text": [
      "[('new', 1597.0), ('delhi', 31.0), ('ak', 23.0), ('verma', 33.0), ('executive', 135.0), ('engineer', 45.0), ('central', 221.0), ('public', 570.0), ('works', 111.0), ('department', 390.0)]\n"
     ]
    },
    {
     "name": "stderr",
     "output_type": "stream",
     "text": [
      "\n"
     ]
    }
   ],
   "source": [
    "# Learn idf of every word in the corpus\n",
    "df = defaultdict(float)\n",
    "for doc in tqdm(corpus):\n",
    "    words = tokenise(doc)\n",
    "    seen = set()\n",
    "    for word in words:\n",
    "        if word not in seen:\n",
    "            df[word] += 1.0\n",
    "            seen.add(word)\n",
    "\n",
    "print(list(df.items())[:10])"
   ]
  },
  {
   "cell_type": "code",
   "execution_count": 10,
   "metadata": {},
   "outputs": [
    {
     "name": "stderr",
     "output_type": "stream",
     "text": [
      "100%|██████████| 21414/21414 [00:00<00:00, 438914.48it/s]"
     ]
    },
    {
     "name": "stdout",
     "output_type": "stream",
     "text": [
      "[('new', 2.7272487602471793), ('delhi', 6.638020983773672), ('ak', 6.925703056225454), ('verma', 6.577396361957238), ('executive', 5.191102000837347), ('engineer', 6.275115490084304), ('central', 4.70107950470112), ('public', 3.756367676917389), ('works', 5.385258015278304), ('department', 4.1350493265880335)]\n"
     ]
    },
    {
     "name": "stderr",
     "output_type": "stream",
     "text": [
      "\n"
     ]
    }
   ],
   "source": [
    "num_docs = corpus.shape[0]\n",
    "idf = defaultdict(float)\n",
    "for word, val in tqdm(df.items()):\n",
    "    idf[word] = np.log((1.0 + num_docs) / (1.0 + val)) + 1.0  # smoothed idf\n",
    "\n",
    "print(list(idf.items())[:10])"
   ]
  },
  {
   "cell_type": "code",
   "execution_count": 11,
   "metadata": {},
   "outputs": [
    {
     "name": "stderr",
     "output_type": "stream",
     "text": [
      "400000it [00:08, 48173.29it/s]"
     ]
    },
    {
     "name": "stdout",
     "output_type": "stream",
     "text": [
      "[-1.2879   -0.14538  -0.016613  1.1387    1.1317    0.20705  -0.47351\n",
      "  0.15898   0.67879   0.2382    0.11621   0.26053  -0.8379    1.1232\n",
      "  0.31469  -0.47904  -0.33717  -0.34492  -0.72053  -1.0543   -0.58476\n",
      " -0.42184  -0.56977  -1.1697   -0.50389  -1.4706   -0.22005   1.1314\n",
      "  1.0829   -1.5477    0.77931  -0.22865   0.33369   0.52067   0.22109\n",
      "  1.1267    0.11704   1.1647    0.5875   -0.079243  0.022386  0.90118\n",
      " -0.37459   0.82637  -0.41061  -0.95039   0.44121  -0.58558   0.12594\n",
      " -0.71778 ]\n"
     ]
    },
    {
     "name": "stderr",
     "output_type": "stream",
     "text": [
      "\n"
     ]
    }
   ],
   "source": [
    "# Load GLoVe word vectors\n",
    "f_glove = open(\"data/glove.6B.50d.txt\", \"rb\")  # download from https://nlp.stanford.edu/projects/glove/\n",
    "glove_vectors = {}\n",
    "for line in tqdm(f_glove):\n",
    "    glove_vectors[str(line.split()[0]).split(\"'\")[1]] = np.array(list(map(float, line.split()[1:])))\n",
    "\n",
    "print(glove_vectors['glove'])"
   ]
  },
  {
   "cell_type": "code",
   "execution_count": 12,
   "metadata": {},
   "outputs": [
    {
     "name": "stdout",
     "output_type": "stream",
     "text": [
      "80's Brat Pack star Judd Nelson forced to deny that he's dead after fake news story starts trending on social media [-0.04232922 -0.01842568  0.34725012 -0.05143704 -0.02753592  0.1682777\n",
      " -0.45394914 -0.20182683 -0.06393099  0.12318077 -0.21048225 -0.02127707\n",
      " -0.28266516  0.06272534  0.36039735 -0.08274542 -0.01398294  0.14213195\n",
      " -0.11515137 -0.0542858  -0.22879347  0.24957358  0.27535965  0.28703066\n",
      "  0.27818191 -0.9612341  -0.15123584  0.04693107  0.0870427  -0.20253248\n",
      "  1.58425465  0.14010385 -0.16811974 -0.06777901 -0.05983563  0.11708822\n",
      " -0.10178175 -0.1090852  -0.06097973 -0.3190436   0.00921121  0.24765028\n",
      " -0.2795602   0.02881755 -0.01448855 -0.13076779  0.06523218 -0.16874656\n",
      "  0.08062678  0.07997211]\n",
      "ISIS Executioner 'Jihadi John' Is Named as Mohammed Emwazi [-0.07901437  0.02569246 -0.00914783 -0.25959812  0.82608616 -0.34248026\n",
      " -0.15879729 -0.04972512  0.18958255 -0.06482656  0.05285636  0.41382386\n",
      " -0.39589128  0.28481863  0.07249011 -0.16184485  0.01960323 -0.05974164\n",
      " -0.14101261  0.45328458 -0.18782596  0.11526957  0.24248226  0.22184872\n",
      " -0.2087248  -1.02485737 -0.47101194 -0.38367209 -0.42604391  0.20825841\n",
      "  0.69250518 -0.51698432 -0.23559794 -0.03890865  0.20238072  0.21363619\n",
      "  0.19291247 -0.10825975 -0.27005798  0.22927325  0.18694104  0.51211189\n",
      " -0.60628467 -0.0293093   0.43255036 -0.17354802 -0.32489717 -0.26846022\n",
      " -0.02115898  0.01649848]\n"
     ]
    }
   ],
   "source": [
    "# Convert a document to GloVe vectors, by computing tf-idf of each word * GLoVe of word / total tf-idf for document\n",
    "def doc_to_glove(doc):\n",
    "    doc_tf = doc_to_tf(doc)\n",
    "    doc_tf_idf = defaultdict(float)\n",
    "    for word, tf in doc_tf.items():\n",
    "        doc_tf_idf[word] = tf * idf[word]\n",
    "        \n",
    "    doc_vector = np.zeros(glove_vectors['glove'].shape[0])\n",
    "    if np.sum(list(doc_tf_idf.values())) == 0.0:  # edge case: document is empty\n",
    "        return doc_vector\n",
    "    \n",
    "    for word, tf_idf in doc_tf_idf.items():\n",
    "        if word in glove_vectors:\n",
    "            doc_vector += glove_vectors[word] * tf_idf\n",
    "    doc_vector /= np.sum(list(doc_tf_idf.values()))\n",
    "    return doc_vector\n",
    "\n",
    "for i in range(2):\n",
    "    print(train_all[i, 0], doc_to_glove(train_all[i, 0]))"
   ]
  },
  {
   "cell_type": "code",
   "execution_count": 13,
   "metadata": {},
   "outputs": [
    {
     "name": "stdout",
     "output_type": "stream",
     "text": [
      "0.7796294972801269 unrelated\n",
      "0.6696348647387658 discuss\n",
      "0.6400303845756461 agree\n",
      "0.9198332035953785 discuss\n",
      "0.7104113473477834 agree\n",
      "0.6098851525838833 unrelated\n",
      "0.6343919054331733 unrelated\n",
      "0.8080645651019855 unrelated\n",
      "0.6535276154267927 unrelated\n",
      "0.6848027592116739 unrelated\n",
      "0.6195285187185433 ['emotional', 'sergeant', 'arms', 'greeted', 'back', 'parliament', 'rousing', 'standing', 'ovation', 'day', 'heroically', 'shot', 'dead', 'terrorist', 'first', 'time', 'used', 'weapon', '30', 'year', 'career'] ['vice', 'founder', 'shane', 'smith', 'something', 'caviar', 'via', 'twittercom', 'bloomberg', 'reported', 'wednesday', 'vice', 'founder', 'shane', 'smith', 'recently', 'balled', 'exceptionally', 'hard', 'dinner', 'group', '12', 'prime', 'steakhouse', 'las', 'vegas', 'racking', '300000', 'check', 'source', 'vice', 'told', 'buzzfeed', 'news', 'smith', 'sum', 'well', 'north', 'bill', 'gambling', 'week', 'ces', 'conference', 'las', 'vegas', 'paid', 'dinner', 'personal', 'credit', 'card', 'financial', 'times', 'report', 'says', 'smith', '1', 'million', 'ft', 'new', 'york', 'times', 'say', '30', 'people', 'eating', 'smiths', 'dime', 'smith', 'hasnt', 'commented', 'story', 'pity', 'world', 'needs', 'know', 'answer', 'crucial', 'question', 'spend', '300000', 'dinner', 'short', 'guide', 'man', 'member', '25', 'billion', 'digital', 'media', 'empire', 'left', 'speculate', 'spirit', 'checked', 'menu', 'prime', 'steakhouse', 'bellagio', 'hotel', 'casino', 'heres', 'best', 'guess', 'smith', 'party', '12', 'could', 'racked', 'tab', 'value', 'single', 'family', 'home', 'heres', 'check', 'whenever', 'youre', 'ready', 'prime', 'steakhouse', 'bellagio', '3600', 'las', 'vegas', 'blvd', 'las', 'vegas', 'nv', '89109', 'date', 'sometime', 'ces', 'time', 'late', 'post', '100k', 'blackjack', 'victory', 'server', 'buzzfeed', 'wine', 'menu', 'available', 'prices', 'based', 'comparable', 'vegas', 'restaurants', '3', 'shrimp', 'cocktails', '24', '2', 'foie', 'gras', '32', '2', 'ribbons', 'tuna', '24', '2', 'lbs', 'siberian', 'sturgeon', 'caviar', '2500', '4', 'bottles', '2003', 'dom', 'perignon', '400', '4', 'bottles', '1998', 'borl', 'kroff', '15000', '12', 'shots', 'johnnie', 'walker', 'blue', '60', '12', 'shots', 'single', 'malt', 'glen', 'ord', '30', 'yr', '60', 'caesar', 'romaine', 'parmesan', '17', 'roasted', 'baby', 'beets', 'apple', 'ricotta', 'cheese', 'quinoa', '16', 'baby', 'iceberg', 'lettuce', 'crispy', 'bacon', 'maytag', 'blue', 'cheese', 'dressing', '18', 'market', 'tomatoes', 'burrata', 'cheese', 'mussini', 'balsamic', 'basil', '19', 'steamed', 'shrimp', 'salad', 'field', 'greens', 'enoki', 'mushrooms', 'tomato', '25', 'fall', 'vegetables', 'goat', 'cheese', 'pumpkin', 'seeds', 'red', 'wine', 'vinaigrette', '18', 'warm', 'asparagus', 'salad', 'hollandaise', 'truffle', 'vinaigrette', '18', '6', 'bottles', '2008', 'domaine', 'de', 'la', 'romane', 'conti', '20000', '6', 'bottles', '2002', 'syrah', '5000', '4', '28', 'oz', 'bone', 'rib', 'eyes', '85', '6', 'porterhouses', '69', '2', 'pan', 'roasted', 'dover', 'soles', '66', '4', 'cold', 'water', 'lobster', 'tail', 'lemon', 'spaetzle', '62', '4', 'bottles', '2007', 'montrachet', 'domaine', 'romane', 'conti', '9000', '4', 'rosemary', 'lime', 'roasted', 'chickens', 'artichokes', 'parmesan', 'basil', '36', '2', 'mashed', 'yukon', 'gold', 'potatoes', '12', '2', 'ginger', 'sweet', 'potatoes', '12', '2', 'french', 'fries', '13', '2', 'smashed', 'fingerling', 'potatoes', 'chive', 'crme', 'frache', '12', '2', 'truffle', 'mashed', 'potatoes', '18', '2', 'chickpea', 'fries', '12', '2', 'gratin', 'dauphinois', 'comt', 'cheese', '12', '2', 'baked', 'potato', '12', '2', 'mac', 'cheese', '12', '2', 'crispy', 'spaetzle', 'gruyre', 'chive', '12', '2', 'onion', 'rings', 'tempura', '12', '2', 'creamed', 'spinach', '12', '2', 'glazed', 'green', 'vegetables', 'goat', 'cheese', 'almond', 'pesto', '12', '2', 'glazed', 'carrots', 'tarragon', 'yuzu', '12', '2', 'steamed', 'asparagus', '14', '2', 'glazed', 'market', 'mushrooms', '16', '2', 'tender', 'broccoli', 'truffle', 'gouda', 'fondue', '16', 'artichoke', 'risotto', 'lemon', 'parsley', '12', '12', 'desserts', '14', '3', 'bottles', 'remy', 'louis', 'xiii', 'cognac', '300', 'subtotal', '257009', '18', 'service', 'charge', '4626162', 'total', '30327062', 'prime', 'steakhouse', 'bellagio', 'hotel', 'casino', 'las', 'vegas', 'offers', 'wide', 'variety', 'surf', 'turf', 'creations', 'celebrity', 'chef', 'jean', 'georges', 'vongerichten', 'via', 'bellagiocom', 'primes', 'siberian', 'sturgeon', 'caviar', 'traditional', 'accompaniments', 'likely', 'must', 'smiths', 'group', 'restaurant', 'lists', 'item', 'market', 'price', 'eater', 'las', 'vegas', 'going', '2500', 'per', 'pound', 'couple', 'pounds', 'caviar', 'seems', 'reasonable', 'allekoalleko', 'mercifully', 'smith', 'prime', 'doesnt', 'put', 'wine', 'list', 'online', 'strip', 'mario', 'batalis', 'carnevino', 'wynn', 'bottles', 'dom', 'perignon', '2003', 'run', 'guests', '400', 'jay', 'l', 'clendeninlos', 'angeles', 'times', 'mct', 'farmers', 'respectable', 'internet', 'baron', 'going', 'spring', 'couple', 'bottles', 'best', 'champagne', 'house', 'batalis', 'joint', '15', 'liter', 'bottle', 'borl', 'kroff', '1998', 'set', 'back', '15000', 'antonmatveevantonmatveev', 'obviously', 'white', 'wine', 'accompanies', 'good', 'foodies', 'fish', 'course', 'smiths', 'crew', 'could', 'grabbed', 'couple', 'bottles', '9000', 'montrachet', 'domaine', 'de', 'la', 'romane', 'conti', '2007', 'average', 'year', 'sometimes', 'compromise', 'necessary', 'manakinmanakin', 'reds', 'perhaps', 'couple', 'vintages', 'reasonable', 'side', 'like', '5000', 'per', 'bottle', 'sine', 'qua', 'non', 'love', '2002', 'syrah', 'federicofotofedericofoto', 'join', 'us', 'next', 'week', 'vice', 'guide', 'surviving', 'private', 'jet', 'rental', 'warrenbuffett', 'company', 'netjets', 'shut', 'terrible', 'level', 'service', 'lies', 'instead', 'customer', 'service']\n"
     ]
    }
   ],
   "source": [
    "# Compute cosine similarity of GLoVe vectors for all headline-body pairs\n",
    "def dot_product(vec1, vec2):\n",
    "    sigma = 0.0\n",
    "    for i in range(vec1.shape[0]):  # assume vec1 and vec2 has same shape\n",
    "        sigma += vec1[i] * vec2[i]\n",
    "    return sigma\n",
    "    \n",
    "def magnitude(vec):\n",
    "    return np.sqrt(np.sum(np.square(vec)))\n",
    "        \n",
    "def cosine_similarity(doc):\n",
    "    headline_vector = doc_to_glove(doc[0])\n",
    "    body_vector = doc_to_glove(doc[1])\n",
    "    \n",
    "    if magnitude(headline_vector) == 0.0 or magnitude(body_vector) == 0.0:  # edge case: document is empty\n",
    "        return 0.0\n",
    "    \n",
    "    return dot_product(headline_vector, body_vector) / (magnitude(headline_vector) * magnitude(body_vector))\n",
    "\n",
    "for i in range(10):\n",
    "    # unrelated should have lower than rest\n",
    "    print(cosine_similarity(train_all[i]), train_all[i, 2])\n",
    "print(cosine_similarity(train_all[27069//10]), tokenise(train_all[27069//10, 0]), tokenise(train_all[27069//10, 1]))  # edge case"
   ]
  },
  {
   "cell_type": "code",
   "execution_count": 14,
   "metadata": {},
   "outputs": [
    {
     "name": "stdout",
     "output_type": "stream",
     "text": [
      "2.226440047423417 unrelated\n",
      "0.2329880699498739 discuss\n",
      "1.0954376779526533 agree\n",
      "1.112234431366886 discuss\n",
      "0.24539173771114703 agree\n",
      "1.7203908550549427 unrelated\n",
      "1.7552125109890526 unrelated\n",
      "1.2189288365130526 unrelated\n",
      "1.9714975844932492 unrelated\n",
      "1.0642521299178045 unrelated\n",
      "1.3503533061417534 ['emotional', 'sergeant', 'arms', 'greeted', 'back', 'parliament', 'rousing', 'standing', 'ovation', 'day', 'heroically', 'shot', 'dead', 'terrorist', 'first', 'time', 'used', 'weapon', '30', 'year', 'career'] ['vice', 'founder', 'shane', 'smith', 'something', 'caviar', 'via', 'twittercom', 'bloomberg', 'reported', 'wednesday', 'vice', 'founder', 'shane', 'smith', 'recently', 'balled', 'exceptionally', 'hard', 'dinner', 'group', '12', 'prime', 'steakhouse', 'las', 'vegas', 'racking', '300000', 'check', 'source', 'vice', 'told', 'buzzfeed', 'news', 'smith', 'sum', 'well', 'north', 'bill', 'gambling', 'week', 'ces', 'conference', 'las', 'vegas', 'paid', 'dinner', 'personal', 'credit', 'card', 'financial', 'times', 'report', 'says', 'smith', '1', 'million', 'ft', 'new', 'york', 'times', 'say', '30', 'people', 'eating', 'smiths', 'dime', 'smith', 'hasnt', 'commented', 'story', 'pity', 'world', 'needs', 'know', 'answer', 'crucial', 'question', 'spend', '300000', 'dinner', 'short', 'guide', 'man', 'member', '25', 'billion', 'digital', 'media', 'empire', 'left', 'speculate', 'spirit', 'checked', 'menu', 'prime', 'steakhouse', 'bellagio', 'hotel', 'casino', 'heres', 'best', 'guess', 'smith', 'party', '12', 'could', 'racked', 'tab', 'value', 'single', 'family', 'home', 'heres', 'check', 'whenever', 'youre', 'ready', 'prime', 'steakhouse', 'bellagio', '3600', 'las', 'vegas', 'blvd', 'las', 'vegas', 'nv', '89109', 'date', 'sometime', 'ces', 'time', 'late', 'post', '100k', 'blackjack', 'victory', 'server', 'buzzfeed', 'wine', 'menu', 'available', 'prices', 'based', 'comparable', 'vegas', 'restaurants', '3', 'shrimp', 'cocktails', '24', '2', 'foie', 'gras', '32', '2', 'ribbons', 'tuna', '24', '2', 'lbs', 'siberian', 'sturgeon', 'caviar', '2500', '4', 'bottles', '2003', 'dom', 'perignon', '400', '4', 'bottles', '1998', 'borl', 'kroff', '15000', '12', 'shots', 'johnnie', 'walker', 'blue', '60', '12', 'shots', 'single', 'malt', 'glen', 'ord', '30', 'yr', '60', 'caesar', 'romaine', 'parmesan', '17', 'roasted', 'baby', 'beets', 'apple', 'ricotta', 'cheese', 'quinoa', '16', 'baby', 'iceberg', 'lettuce', 'crispy', 'bacon', 'maytag', 'blue', 'cheese', 'dressing', '18', 'market', 'tomatoes', 'burrata', 'cheese', 'mussini', 'balsamic', 'basil', '19', 'steamed', 'shrimp', 'salad', 'field', 'greens', 'enoki', 'mushrooms', 'tomato', '25', 'fall', 'vegetables', 'goat', 'cheese', 'pumpkin', 'seeds', 'red', 'wine', 'vinaigrette', '18', 'warm', 'asparagus', 'salad', 'hollandaise', 'truffle', 'vinaigrette', '18', '6', 'bottles', '2008', 'domaine', 'de', 'la', 'romane', 'conti', '20000', '6', 'bottles', '2002', 'syrah', '5000', '4', '28', 'oz', 'bone', 'rib', 'eyes', '85', '6', 'porterhouses', '69', '2', 'pan', 'roasted', 'dover', 'soles', '66', '4', 'cold', 'water', 'lobster', 'tail', 'lemon', 'spaetzle', '62', '4', 'bottles', '2007', 'montrachet', 'domaine', 'romane', 'conti', '9000', '4', 'rosemary', 'lime', 'roasted', 'chickens', 'artichokes', 'parmesan', 'basil', '36', '2', 'mashed', 'yukon', 'gold', 'potatoes', '12', '2', 'ginger', 'sweet', 'potatoes', '12', '2', 'french', 'fries', '13', '2', 'smashed', 'fingerling', 'potatoes', 'chive', 'crme', 'frache', '12', '2', 'truffle', 'mashed', 'potatoes', '18', '2', 'chickpea', 'fries', '12', '2', 'gratin', 'dauphinois', 'comt', 'cheese', '12', '2', 'baked', 'potato', '12', '2', 'mac', 'cheese', '12', '2', 'crispy', 'spaetzle', 'gruyre', 'chive', '12', '2', 'onion', 'rings', 'tempura', '12', '2', 'creamed', 'spinach', '12', '2', 'glazed', 'green', 'vegetables', 'goat', 'cheese', 'almond', 'pesto', '12', '2', 'glazed', 'carrots', 'tarragon', 'yuzu', '12', '2', 'steamed', 'asparagus', '14', '2', 'glazed', 'market', 'mushrooms', '16', '2', 'tender', 'broccoli', 'truffle', 'gouda', 'fondue', '16', 'artichoke', 'risotto', 'lemon', 'parsley', '12', '12', 'desserts', '14', '3', 'bottles', 'remy', 'louis', 'xiii', 'cognac', '300', 'subtotal', '257009', '18', 'service', 'charge', '4626162', 'total', '30327062', 'prime', 'steakhouse', 'bellagio', 'hotel', 'casino', 'las', 'vegas', 'offers', 'wide', 'variety', 'surf', 'turf', 'creations', 'celebrity', 'chef', 'jean', 'georges', 'vongerichten', 'via', 'bellagiocom', 'primes', 'siberian', 'sturgeon', 'caviar', 'traditional', 'accompaniments', 'likely', 'must', 'smiths', 'group', 'restaurant', 'lists', 'item', 'market', 'price', 'eater', 'las', 'vegas', 'going', '2500', 'per', 'pound', 'couple', 'pounds', 'caviar', 'seems', 'reasonable', 'allekoalleko', 'mercifully', 'smith', 'prime', 'doesnt', 'put', 'wine', 'list', 'online', 'strip', 'mario', 'batalis', 'carnevino', 'wynn', 'bottles', 'dom', 'perignon', '2003', 'run', 'guests', '400', 'jay', 'l', 'clendeninlos', 'angeles', 'times', 'mct', 'farmers', 'respectable', 'internet', 'baron', 'going', 'spring', 'couple', 'bottles', 'best', 'champagne', 'house', 'batalis', 'joint', '15', 'liter', 'bottle', 'borl', 'kroff', '1998', 'set', 'back', '15000', 'antonmatveevantonmatveev', 'obviously', 'white', 'wine', 'accompanies', 'good', 'foodies', 'fish', 'course', 'smiths', 'crew', 'could', 'grabbed', 'couple', 'bottles', '9000', 'montrachet', 'domaine', 'de', 'la', 'romane', 'conti', '2007', 'average', 'year', 'sometimes', 'compromise', 'necessary', 'manakinmanakin', 'reds', 'perhaps', 'couple', 'vintages', 'reasonable', 'side', 'like', '5000', 'per', 'bottle', 'sine', 'qua', 'non', 'love', '2002', 'syrah', 'federicofotofedericofoto', 'join', 'us', 'next', 'week', 'vice', 'guide', 'surviving', 'private', 'jet', 'rental', 'warrenbuffett', 'company', 'netjets', 'shut', 'terrible', 'level', 'service', 'lies', 'instead', 'customer', 'service']\n"
     ]
    }
   ],
   "source": [
    "# Compute the KL-Divergence of language model (LM) representations of the headline and the body\n",
    "def divergence(lm1, lm2):\n",
    "    sigma = 0.0\n",
    "    for i in range(lm1.shape[0]):  # assume lm1 and lm2 has same shape\n",
    "        sigma += lm1[i] * np.log(lm1[i] / lm2[i])\n",
    "    return sigma\n",
    "\n",
    "def kl_divergence(doc, eps=0.1):\n",
    "    # Convert headline and body to 1-gram representations\n",
    "    tf_headline = doc_to_tf(doc[0])\n",
    "    tf_body = doc_to_tf(doc[1])\n",
    "    \n",
    "    # Convert dictionary tf representations to vectors (make sure columns match to the same word)\n",
    "    words = set(tf_headline.keys()).union(set(tf_body.keys()))\n",
    "    vec_headline, vec_body = np.zeros(len(words)), np.zeros(len(words))\n",
    "    i = 0\n",
    "    for word in words:\n",
    "        vec_headline[i] += tf_headline[word]\n",
    "        vec_body[i] = tf_body[word]\n",
    "        i += 1\n",
    "    \n",
    "    # Compute a simple 1-gram language model of headline and body\n",
    "    lm_headline = vec_headline + eps\n",
    "    lm_headline /= np.sum(lm_headline)\n",
    "    lm_body = vec_body + eps\n",
    "    lm_body /= np.sum(lm_body)\n",
    "    \n",
    "    # Return KL-divergence of both language models\n",
    "    return divergence(lm_headline, lm_body)\n",
    "\n",
    "for i in range(10):\n",
    "    # unrelated should have higher than rest\n",
    "    print(kl_divergence(train_all[i]), train_all[i, 2])\n",
    "print(kl_divergence(train_all[27069//10]), tokenise(train_all[27069//10, 0]), tokenise(train_all[27069//10, 1]))  # edge case"
   ]
  },
  {
   "cell_type": "code",
   "execution_count": 15,
   "metadata": {},
   "outputs": [
    {
     "name": "stdout",
     "output_type": "stream",
     "text": [
      "0.0 unrelated\n",
      "0.42340515458067857 discuss\n",
      "0.2665034867244887 agree\n",
      "0.5882381732700303 discuss\n",
      "0.616306765353032 agree\n",
      "0.0 unrelated\n",
      "0.0 unrelated\n",
      "0.13680655892255053 unrelated\n",
      "0.21780086698519668 unrelated\n",
      "0.11553832447351613 unrelated\n"
     ]
    }
   ],
   "source": [
    "# Other feature 1\n",
    "def ngram_overlap(doc):\n",
    "    # Returns how many times n-grams (up to 3-gram) that occur in the article's headline occur on the article's body.\n",
    "    tf_headline = doc_to_tf(doc[0], ngram=3)\n",
    "    tf_body = doc_to_tf(doc[1], ngram=3)\n",
    "    matches = 0.0\n",
    "    for words in tf_headline.keys():\n",
    "        if words in tf_body:\n",
    "            matches += tf_body[words]\n",
    "    return np.power((matches / len(tokenise(doc[1]))), 1 / np.e)  # normalise for document length\n",
    "\n",
    "for i in range(10):\n",
    "    # unrelated should have lower than rest\n",
    "    print(ngram_overlap(train_all[i]), train_all[i, 2])"
   ]
  },
  {
   "cell_type": "code",
   "execution_count": 16,
   "metadata": {},
   "outputs": [
    {
     "name": "stderr",
     "output_type": "stream",
     "text": [
      "100%|██████████| 4494/4494 [00:49<00:00, 91.24it/s] "
     ]
    },
    {
     "name": "stdout",
     "output_type": "stream",
     "text": [
      "[[0.7796295  2.22644005 0.        ]\n",
      " [0.66963486 0.23298807 0.42340515]\n",
      " [0.64003038 1.09543768 0.26650349]\n",
      " [0.9198332  1.11223443 0.58823817]\n",
      " [0.71041135 0.24539174 0.61630677]\n",
      " [0.60988515 1.72039086 0.        ]\n",
      " [0.63439191 1.75521251 0.        ]\n",
      " [0.80806457 1.21892884 0.13680656]\n",
      " [0.65352762 1.97149758 0.21780087]\n",
      " [0.68480276 1.06425213 0.11553832]]\n"
     ]
    },
    {
     "name": "stderr",
     "output_type": "stream",
     "text": [
      "\n"
     ]
    }
   ],
   "source": [
    "# Define function to convert (headline, body) to feature vectors for each document\n",
    "ftrs = [cosine_similarity, kl_divergence, ngram_overlap]\n",
    "def to_feature_array(doc):\n",
    "    vec = np.array([0.0] * len(ftrs))\n",
    "    for i in range(len(ftrs)):\n",
    "        vec[i] = ftrs[i](doc)\n",
    "    return vec\n",
    "\n",
    "# Initialise X (matrix of feature vectors) for train dataset\n",
    "x_train = np.array([to_feature_array(doc) for doc in tqdm(train_all)])\n",
    "print(x_train[:10])"
   ]
  },
  {
   "cell_type": "code",
   "execution_count": 17,
   "metadata": {},
   "outputs": [
    {
     "name": "stdout",
     "output_type": "stream",
     "text": [
      "[3 2 0 2 0 3 3 3 3 3]\n"
     ]
    }
   ],
   "source": [
    "# Define label <-> int mappings for y\n",
    "label_to_int = {'agree': 0, 'disagree': 1, 'discuss': 2, 'unrelated': 3}\n",
    "int_to_label = ['agree', 'disagree', 'discuss', 'unrelated']\n",
    "\n",
    "# Initialise Y (gold output vector) for train dataset\n",
    "y_train = np.array([label_to_int[i] for i in train_all[:, 2]])\n",
    "print(y_train[:10])"
   ]
  },
  {
   "cell_type": "code",
   "execution_count": 18,
   "metadata": {},
   "outputs": [
    {
     "name": "stdout",
     "output_type": "stream",
     "text": [
      "(array([], dtype=int64), array([], dtype=int64))\n",
      "(array([], dtype=int64), array([], dtype=int64))\n",
      "(4494, 3)\n",
      "(4494,)\n"
     ]
    }
   ],
   "source": [
    "# Check integrity of X and Y\n",
    "print(np.where(np.isnan(x_train)))\n",
    "print(np.where(np.isfinite(x_train) == False))\n",
    "print(x_train.shape)\n",
    "print(y_train.shape)  # x_train.shape[0] == y_train.shape[0]"
   ]
  },
  {
   "cell_type": "code",
   "execution_count": 19,
   "metadata": {},
   "outputs": [
    {
     "name": "stdout",
     "output_type": "stream",
     "text": [
      "[('g', 'agree'), ('r', 'disagree'), ('b', 'discuss'), ('y', 'unrelated')]\n"
     ]
    },
    {
     "data": {
      "image/png": "[encoded data removed]",
      "text/plain": [
       "<Figure size 432x288 with 1 Axes>"
      ]
     },
     "metadata": {
      "needs_background": "light"
     },
     "output_type": "display_data"
    }
   ],
   "source": [
    "# Plot GLoVe distance vs KL-Divergence on a coloured scatter plot with different colours for each label\n",
    "colours = np.array(['g', 'r', 'b', 'y'])\n",
    "plt.scatter(list(x_train[:, 0]), list(x_train[:, 1]), c=colours[y_train])\n",
    "plt.xlabel('Cosine Similarity of GLoVe vectors')\n",
    "plt.ylabel('KL Divergence of Unigram LMs')\n",
    "print([(colours[i], int_to_label[i]) for i in range(len(int_to_label))])\n",
    "plt.show()"
   ]
  },
  {
   "cell_type": "code",
   "execution_count": 20,
   "metadata": {},
   "outputs": [
    {
     "name": "stderr",
     "output_type": "stream",
     "text": [
      "100%|██████████| 501/501 [00:05<00:00, 88.63it/s] "
     ]
    },
    {
     "name": "stdout",
     "output_type": "stream",
     "text": [
      "[[0.92415851 0.62881781 0.22284315]\n",
      " [0.70244366 0.86754189 0.43404718]\n",
      " [0.72377623 1.65128671 0.        ]\n",
      " [0.69761169 0.39372154 0.37469461]\n",
      " [0.78924781 0.23513214 0.34531151]]\n"
     ]
    },
    {
     "name": "stderr",
     "output_type": "stream",
     "text": [
      "\n"
     ]
    }
   ],
   "source": [
    "# Initialise x (feature vectors) for validation dataset\n",
    "x_val = np.array([to_feature_array(doc) for doc in tqdm(val_all)])\n",
    "print(x_val[:5])"
   ]
  },
  {
   "cell_type": "code",
   "execution_count": 21,
   "metadata": {},
   "outputs": [
    {
     "name": "stdout",
     "output_type": "stream",
     "text": [
      "0.04833333333333334\n"
     ]
    }
   ],
   "source": [
    "# Linear regression model\n",
    "def mse(pred, gold):\n",
    "    sigma = 0.0\n",
    "    for i in range(pred.shape[0]):\n",
    "        sigma += np.square(pred[i] - gold[i])\n",
    "    return sigma / (2 * pred.shape[0])\n",
    "\n",
    "print(mse(np.array([0.0, 0.2, 0.5, 0.5, 0.8, 1.0]), np.array([0, 0, 0, 1, 1, 1])))"
   ]
  },
  {
   "cell_type": "code",
   "execution_count": 22,
   "metadata": {},
   "outputs": [
    {
     "name": "stderr",
     "output_type": "stream",
     "text": [
      "100%|██████████| 100/100 [00:00<00:00, 264.47it/s]"
     ]
    },
    {
     "name": "stdout",
     "output_type": "stream",
     "text": [
      "Final MSE: 0.05806494732550978\n",
      "Model: [ 0.08728049  0.54466373 -0.32499452]\n",
      "[0.35166402 1.130639   0.61526072 0.3761945  1.27067938 1.3655792\n",
      " 0.22475605 0.94118786 1.10233257 0.32345234 1.24320873 0.13535789\n",
      " 1.2728668  1.04154892 0.6305938  0.20693177 0.66185312 0.73889816\n",
      " 0.91187797 0.21373834]\n",
      "Predicted [0 1 1 0 1 1 0 1 1 0 1 0 1 1 1 0 1 1 1 0]\n",
      "Actual [0 1 1 0 1 1 0 1 1 0 1 0 1 1 1 0 1 1 1 0]\n"
     ]
    },
    {
     "name": "stderr",
     "output_type": "stream",
     "text": [
      "\n"
     ]
    }
   ],
   "source": [
    "class LinearRegression:\n",
    "    \n",
    "    def __init__(self, lrn_rate, n_iter):\n",
    "        self.lrn_rate = lrn_rate\n",
    "        self.n_iter = n_iter\n",
    "        # self.breakpoints = set([n_iter * i // 10 for i in range(1, 11)])\n",
    "        \n",
    "    def fit(self, X, Y):\n",
    "        # Learn a model y = intercept + x0*t0 + x1*t1 + x2*t2 + ... that minimises MSE. Need to optimise T\n",
    "        # self.intercept = 0.0\n",
    "        self.model = np.zeros(X.shape[1])  # model[0] = t0, model[1] = t1, etc.\n",
    "        for it in tqdm(range(self.n_iter)):\n",
    "            model_Y = self.transform(X)\n",
    "            # Thetas\n",
    "            for col in range(X.shape[1]):\n",
    "                s = 0.0\n",
    "                for row in range(X.shape[0]):\n",
    "                    s += (model_Y[row] - Y[row]) * X[row, col]\n",
    "                self.model[col] -= self.lrn_rate * s / X.shape[0]\n",
    "            # Intercept\n",
    "            # s_int = 0.0\n",
    "            # for row in range(X.shape[0]):\n",
    "            #     s_int += (model_Y[row] - Y[row]) * 1.0\n",
    "            # self.intercept -= self.lrn_rate * s_int / X.shape[0]\n",
    "            # if it + 1 in self.breakpoints:\n",
    "                # print('Iteration', it+1, 'MSE:', mse(model_Y, Y))\n",
    "        print('Final MSE:', mse(model_Y, Y))\n",
    "        # print('Intercept:', self.intercept)\n",
    "        print('Model:', self.model)\n",
    "        \n",
    "    def transform(self, X):\n",
    "        # Returns a float value for each X. (Regression)\n",
    "        Y = np.zeros(X.shape[0])\n",
    "        for row in range(X.shape[0]):\n",
    "            # s = self.intercept\n",
    "            s = 0.0\n",
    "            for col in range(X.shape[1]):\n",
    "                s += self.model[col] * X[row, col]\n",
    "            Y[row] = s\n",
    "        return Y\n",
    "    \n",
    "    def predict(self, X):\n",
    "        # Uses results of transform() for binary classification. For testing only, use OneVAllClassifier for the final run.\n",
    "        Y = self.transform(X)\n",
    "        Y = np.array([(1 if i > 0.5 else 0) for i in Y])\n",
    "        return Y\n",
    "\n",
    "# Test only\n",
    "lr = LinearRegression(lrn_rate=0.1, n_iter=100)\n",
    "lr.fit(x_train[:1000], np.array([(1 if i == 3 else 0) for i in y_train[:1000]]))\n",
    "print(lr.transform(x_train[1000:1020]))\n",
    "print('Predicted', lr.predict(x_train[1000:1020]))\n",
    "print('Actual', np.array([(1 if i == 3 else 0) for i in y_train[1000:1020]]))"
   ]
  },
  {
   "cell_type": "code",
   "execution_count": 23,
   "metadata": {},
   "outputs": [
    {
     "name": "stdout",
     "output_type": "stream",
     "text": [
      "[0.5        0.549834   0.62245933 0.62245933 0.68997448 0.73105858]\n",
      "0.04833333333333334\n",
      "0.3054302439580517\n",
      "0.6039670619612919\n"
     ]
    }
   ],
   "source": [
    "# Logistic regression functions\n",
    "def sigmoid(Y):\n",
    "    return 1 / (1 + np.exp(Y * -1))\n",
    "\n",
    "print(sigmoid(np.array([0.0, 0.2, 0.5, 0.5, 0.8, 1.0])))\n",
    "\n",
    "def logistic_cost(pred, gold):\n",
    "    sigma = 0.0\n",
    "    for i in range(pred.shape[0]):\n",
    "        if gold[i] == 1:  \n",
    "            sigma -= np.log(pred[i])\n",
    "        elif gold[i] == 0:\n",
    "            sigma -= np.log(1 - pred[i])\n",
    "    return sigma / pred.shape[0]\n",
    "\n",
    "print(mse(np.array([0.0, 0.2, 0.5, 0.5, 0.8, 1.0]), np.array([0, 0, 0, 1, 1, 1])))\n",
    "print(logistic_cost(np.array([0.0, 0.2, 0.5, 0.5, 0.8, 1.0]), np.array([0, 0, 0, 1, 1, 1])))\n",
    "print(logistic_cost(sigmoid(np.array([0.0, 0.2, 0.5, 0.5, 0.8, 1.0])), np.array([0, 0, 0, 1, 1, 1])))"
   ]
  },
  {
   "cell_type": "code",
   "execution_count": 24,
   "metadata": {},
   "outputs": [
    {
     "name": "stderr",
     "output_type": "stream",
     "text": [
      "100%|██████████| 100/100 [00:00<00:00, 264.08it/s]"
     ]
    },
    {
     "name": "stdout",
     "output_type": "stream",
     "text": [
      "Final loss: 0.4385336869319177\n",
      "Model: [-0.13242509  1.1160697  -0.53844582]\n",
      "[0.62145479 0.89084852 0.74059812 0.64167996 0.91945955 0.92894078\n",
      " 0.55464769 0.84768932 0.88764478 0.61804963 0.91302421 0.53214858\n",
      " 0.91921343 0.87053464 0.74445084 0.54891988 0.74854143 0.80257594\n",
      " 0.83893607 0.58064085]\n",
      "Predicted [1 1 1 1 1 1 1 1 1 1 1 1 1 1 1 1 1 1 1 1]\n",
      "Actual [0 1 1 0 1 1 0 1 1 0 1 0 1 1 1 0 1 1 1 0]\n"
     ]
    },
    {
     "name": "stderr",
     "output_type": "stream",
     "text": [
      "\n"
     ]
    }
   ],
   "source": [
    "# Logistic regression model\n",
    "class LogisticRegression:\n",
    "    \n",
    "    def __init__(self, lrn_rate, n_iter):\n",
    "        self.lrn_rate = lrn_rate\n",
    "        self.n_iter = n_iter\n",
    "        # self.breakpoints = set([n_iter * i // 10 for i in range(1, 11)])\n",
    "        \n",
    "    def fit(self, X, Y):\n",
    "        # Learn a model y = x0*t0 + x1*t1 + x2*t2 + ... that minimises MSE. Need to optimise T\n",
    "        self.model = np.zeros(X.shape[1])  # model[0] = t0, model[1] = t1, etc.\n",
    "        for it in tqdm(range(self.n_iter)):\n",
    "            model_Y = self.transform(X)\n",
    "            for col in range(X.shape[1]):\n",
    "                s = 0.0\n",
    "                for row in range(X.shape[0]):\n",
    "                    s += (model_Y[row] - Y[row]) * X[row, col]\n",
    "                self.model[col] -= self.lrn_rate * s / X.shape[0]\n",
    "            # if it + 1 in self.breakpoints:\n",
    "                # print('Iteration', it+1, 'loss:', logistic_cost(model_Y, Y))\n",
    "        print('Final loss:', logistic_cost(model_Y, Y))\n",
    "        print('Model:', self.model)\n",
    "        \n",
    "    def transform(self, X):\n",
    "        # Returns a float value for each X. (Regression)\n",
    "        Y = np.zeros(X.shape[0])\n",
    "        for row in range(X.shape[0]):\n",
    "            s = 0.0\n",
    "            for col in range(X.shape[1]):\n",
    "                s += self.model[col] * X[row, col]\n",
    "            Y[row] = s\n",
    "        return sigmoid(Y)\n",
    "    \n",
    "    def predict(self, X):\n",
    "        # Uses results of transform() for binary classification. For testing only, use OneVAllClassifier for the final run.\n",
    "        Y = self.transform(X)\n",
    "        Y = np.array([(1 if i > 0.5 else 0) for i in Y])\n",
    "        return Y\n",
    "\n",
    "# Test only\n",
    "lr = LogisticRegression(lrn_rate=0.1, n_iter=100)\n",
    "lr.fit(x_train[:1000], np.array([(1 if i == 3 else 0) for i in y_train[:1000]]))\n",
    "print(lr.transform(x_train[1000:1020]))\n",
    "print('Predicted', lr.predict(x_train[1000:1020]))\n",
    "print('Actual', np.array([(1 if i == 3 else 0) for i in y_train[1000:1020]]))"
   ]
  },
  {
   "cell_type": "code",
   "execution_count": 25,
   "metadata": {},
   "outputs": [
    {
     "name": "stderr",
     "output_type": "stream",
     "text": [
      "100%|██████████| 100/100 [00:00<00:00, 284.83it/s]\n",
      " 61%|██████    | 61/100 [00:00<00:00, 302.57it/s]"
     ]
    },
    {
     "name": "stdout",
     "output_type": "stream",
     "text": [
      "Final MSE: 0.03137935014302291\n",
      "Model: [ 0.15773999 -0.046042    0.18115527]\n",
      "agree\n"
     ]
    },
    {
     "name": "stderr",
     "output_type": "stream",
     "text": [
      "100%|██████████| 100/100 [00:00<00:00, 288.33it/s]\n",
      " 57%|█████▋    | 57/100 [00:00<00:00, 281.52it/s]"
     ]
    },
    {
     "name": "stdout",
     "output_type": "stream",
     "text": [
      "Final MSE: 0.007285404583131371\n",
      "Model: [ 0.02443375 -0.00657916  0.02998626]\n",
      "disagree\n"
     ]
    },
    {
     "name": "stderr",
     "output_type": "stream",
     "text": [
      "100%|██████████| 100/100 [00:00<00:00, 282.21it/s]\n",
      " 56%|█████▌    | 56/100 [00:00<00:00, 280.65it/s]"
     ]
    },
    {
     "name": "stdout",
     "output_type": "stream",
     "text": [
      "Final MSE: 0.04992407240395495\n",
      "Model: [ 0.35673448 -0.11027682  0.34445118]\n",
      "discuss\n"
     ]
    },
    {
     "name": "stderr",
     "output_type": "stream",
     "text": [
      "100%|██████████| 100/100 [00:00<00:00, 285.80it/s]"
     ]
    },
    {
     "name": "stdout",
     "output_type": "stream",
     "text": [
      "Final MSE: 0.05806494732550978\n",
      "Model: [ 0.08728049  0.54466373 -0.32499452]\n",
      "unrelated\n",
      "Predicted [2 3 3 3 3 3 2 3 3 3 3 2 3 3 3 2 3 3 3 2]\n",
      "Actual [2 3 3 0 3 3 2 3 3 1 3 2 3 3 3 2 3 3 3 0]\n"
     ]
    },
    {
     "name": "stderr",
     "output_type": "stream",
     "text": [
      "\n"
     ]
    }
   ],
   "source": [
    "# To use linear/logistic regression models to classify multiple classes\n",
    "class OneVAllClassifier:\n",
    "    \n",
    "    def __init__(self, regression, **params):\n",
    "        self.regression = regression\n",
    "        self.params = params\n",
    "        \n",
    "    def fit(self, X, Y):\n",
    "        # Learn a model for each parameter.\n",
    "        self.categories = np.unique(Y)\n",
    "        self.models = {}\n",
    "        for cat in self.categories:\n",
    "            ova_Y = np.array([(1 if i == cat else 0) for i in Y])\n",
    "            model = self.regression(**self.params)\n",
    "            model.fit(X, ova_Y)\n",
    "            self.models[cat] = model\n",
    "            print(int_to_label[cat])\n",
    "    \n",
    "    def predict(self, X):\n",
    "        # Predicts each x for each different model learned, and returns the category related to the model with the highest score.\n",
    "        vals = {}\n",
    "        for cat, model in self.models.items():\n",
    "            vals[cat] = model.transform(X)\n",
    "        Y = np.zeros(X.shape[0], dtype=np.int)\n",
    "        for row in range(X.shape[0]):\n",
    "            max_val, max_cat = -math.inf, -math.inf\n",
    "            for cat, val in vals.items():\n",
    "                if val[row] > max_val:\n",
    "                    max_val, max_cat = val[row], cat\n",
    "            Y[row] = max_cat\n",
    "        return Y\n",
    "    \n",
    "# Test only\n",
    "ova = OneVAllClassifier(LinearRegression, lrn_rate=0.1, n_iter=100)\n",
    "ova.fit(x_train[:1000], y_train[:1000])\n",
    "print('Predicted', ova.predict(x_train[1000:1020]))\n",
    "print('Actual', y_train[1000:1020])"
   ]
  },
  {
   "cell_type": "code",
   "execution_count": 26,
   "metadata": {},
   "outputs": [
    {
     "name": "stderr",
     "output_type": "stream",
     "text": [
      "100%|██████████| 1000/1000 [00:15<00:00, 64.63it/s]\n",
      "  1%|          | 7/1000 [00:00<00:15, 63.83it/s]"
     ]
    },
    {
     "name": "stdout",
     "output_type": "stream",
     "text": [
      "Final MSE: 0.029136027309288486\n",
      "Model: [ 0.06940905 -0.03053299  0.43887671]\n",
      "agree\n"
     ]
    },
    {
     "name": "stderr",
     "output_type": "stream",
     "text": [
      "100%|██████████| 1000/1000 [00:15<00:00, 63.98it/s]\n",
      "  1%|          | 6/1000 [00:00<00:16, 59.41it/s]"
     ]
    },
    {
     "name": "stdout",
     "output_type": "stream",
     "text": [
      "Final MSE: 0.007976384853805911\n",
      "Model: [ 0.02335813 -0.01003328  0.08832855]\n",
      "disagree\n"
     ]
    },
    {
     "name": "stderr",
     "output_type": "stream",
     "text": [
      "100%|██████████| 1000/1000 [00:15<00:00, 65.44it/s]\n",
      "  1%|          | 6/1000 [00:00<00:16, 58.49it/s]"
     ]
    },
    {
     "name": "stdout",
     "output_type": "stream",
     "text": [
      "Final MSE: 0.042923676201832524\n",
      "Model: [ 0.29008514 -0.12641309  0.9632514 ]\n",
      "discuss\n"
     ]
    },
    {
     "name": "stderr",
     "output_type": "stream",
     "text": [
      "100%|██████████| 1000/1000 [00:15<00:00, 64.21it/s]"
     ]
    },
    {
     "name": "stdout",
     "output_type": "stream",
     "text": [
      "Final MSE: 0.04273193029869748\n",
      "Model: [ 0.54891274  0.41154284 -1.36334332]\n",
      "unrelated\n"
     ]
    },
    {
     "name": "stderr",
     "output_type": "stream",
     "text": [
      "\n"
     ]
    }
   ],
   "source": [
    "# Train the linear regression & One-V-All classifier models on the train set\n",
    "clf = OneVAllClassifier(LinearRegression, lrn_rate=0.1, n_iter=1000)\n",
    "clf.fit(x_train, y_train)"
   ]
  },
  {
   "cell_type": "code",
   "execution_count": 27,
   "metadata": {},
   "outputs": [
    {
     "name": "stdout",
     "output_type": "stream",
     "text": [
      "[3 2 3 2 2]\n",
      "['unrelated' 'discuss' 'unrelated' 'discuss' 'discuss']\n",
      "['discuss' 'agree' 'unrelated' 'discuss' 'discuss']\n"
     ]
    }
   ],
   "source": [
    "# Predict y for validation set\n",
    "y_pred = clf.predict(x_val)\n",
    "print(y_pred[:5])\n",
    "predicted = np.array([int_to_label[i] for i in y_pred])\n",
    "print(predicted[:5])\n",
    "print(val_all[:, 2][:5])"
   ]
  },
  {
   "cell_type": "code",
   "execution_count": 28,
   "metadata": {},
   "outputs": [],
   "source": [
    "# Prepare validation dataset format for score_submission in scorer.py\n",
    "body_ids = [str(body_inverse_index[body]) for body in val_all[:, 1]]\n",
    "pred_for_cm = np.array([{'Headline': val_all[i, 0], 'Body ID': body_ids[i], 'Stance': predicted[i]} for i in range(len(val_all))])\n",
    "gold_for_cm = np.array([{'Headline': val_all[i, 0], 'Body ID': body_ids[i], 'Stance': val_all[i, 2]} for i in range(len(val_all))])"
   ]
  },
  {
   "cell_type": "code",
   "execution_count": 29,
   "metadata": {},
   "outputs": [
    {
     "name": "stdout",
     "output_type": "stream",
     "text": [
      "CONFUSION MATRIX:\n",
      "-------------------------------------------------------------\n",
      "|           |   agree   | disagree  |  discuss  | unrelated |\n",
      "-------------------------------------------------------------\n",
      "|   agree   |     0     |     0     |    29     |     8     |\n",
      "-------------------------------------------------------------\n",
      "| disagree  |     0     |     0     |     4     |     5     |\n",
      "-------------------------------------------------------------\n",
      "|  discuss  |     0     |     0     |    74     |    15     |\n",
      "-------------------------------------------------------------\n",
      "| unrelated |     0     |     0     |     2     |    364    |\n",
      "-------------------------------------------------------------\n",
      "ACCURACY: 0.874\n",
      "\n",
      "MAX  - the best possible score (100% accuracy)\n",
      "NULL - score as if all predicted stances were unrelated\n",
      "TEST - score based on the provided predictions\n",
      "\n",
      "||    MAX    ||    NULL   ||    TEST   ||\n",
      "||   226.5   ||   91.5    ||  173.25   ||\n",
      "\n"
     ]
    }
   ],
   "source": [
    "# Score using scorer.py (provided in https://github.com/FakeNewsChallenge/fnc-1) on VALIDATION set:\n",
    "test_score, cm = score_submission(gold_for_cm, pred_for_cm)\n",
    "null_score, max_score = score_defaults(gold_for_cm)\n",
    "print_confusion_matrix(cm)\n",
    "print(SCORE_REPORT.format(max_score, null_score, test_score))"
   ]
  },
  {
   "cell_type": "code",
   "execution_count": 30,
   "metadata": {},
   "outputs": [
    {
     "name": "stderr",
     "output_type": "stream",
     "text": [
      "100%|██████████| 1000/1000 [00:15<00:00, 65.19it/s]\n",
      "  1%|          | 7/1000 [00:00<00:16, 61.15it/s]"
     ]
    },
    {
     "name": "stdout",
     "output_type": "stream",
     "text": [
      "Final loss: 0.22767752910544284\n",
      "Model: [-0.57304928 -2.09236266  0.87725516]\n",
      "agree\n"
     ]
    },
    {
     "name": "stderr",
     "output_type": "stream",
     "text": [
      "100%|██████████| 1000/1000 [00:15<00:00, 66.24it/s]\n",
      "  1%|          | 7/1000 [00:00<00:15, 62.98it/s]"
     ]
    },
    {
     "name": "stdout",
     "output_type": "stream",
     "text": [
      "Final loss: 0.08008250632684487\n",
      "Model: [-1.61900747 -2.69372449 -0.23554629]\n",
      "disagree\n"
     ]
    },
    {
     "name": "stderr",
     "output_type": "stream",
     "text": [
      "100%|██████████| 1000/1000 [00:15<00:00, 63.60it/s]\n",
      "  1%|          | 6/1000 [00:00<00:17, 55.70it/s]"
     ]
    },
    {
     "name": "stdout",
     "output_type": "stream",
     "text": [
      "Final loss: 0.29937734200851823\n",
      "Model: [ 0.88947324 -2.38670341  2.38026433]\n",
      "discuss\n"
     ]
    },
    {
     "name": "stderr",
     "output_type": "stream",
     "text": [
      "100%|██████████| 1000/1000 [00:16<00:00, 61.79it/s]\n"
     ]
    },
    {
     "name": "stdout",
     "output_type": "stream",
     "text": [
      "Final loss: 0.2611590004848478\n",
      "Model: [-1.78783368  2.57298046 -3.6742005 ]\n",
      "unrelated\n",
      "\n",
      "CONFUSION MATRIX:\n",
      "-------------------------------------------------------------\n",
      "|           |   agree   | disagree  |  discuss  | unrelated |\n",
      "-------------------------------------------------------------\n",
      "|   agree   |     0     |     0     |    21     |    16     |\n",
      "-------------------------------------------------------------\n",
      "| disagree  |     0     |     0     |     3     |     6     |\n",
      "-------------------------------------------------------------\n",
      "|  discuss  |     0     |     0     |    60     |    29     |\n",
      "-------------------------------------------------------------\n",
      "| unrelated |     0     |     0     |     6     |    360    |\n",
      "-------------------------------------------------------------\n",
      "ACCURACY: 0.838\n",
      "\n",
      "MAX  - the best possible score (100% accuracy)\n",
      "NULL - score as if all predicted stances were unrelated\n",
      "TEST - score based on the provided predictions\n",
      "\n",
      "||    MAX    ||    NULL   ||    TEST   ||\n",
      "||   226.5   ||   91.5    ||   156.0   ||\n",
      "\n"
     ]
    }
   ],
   "source": [
    "# Predict y for validation set using logistic regression instead of linear regression, and compare results of scorer.py\n",
    "clf_logistic = OneVAllClassifier(LogisticRegression, lrn_rate=0.1, n_iter=1000)\n",
    "clf_logistic.fit(x_train, y_train)\n",
    "\n",
    "y_pred = clf_logistic.predict(x_val)\n",
    "predicted = np.array([int_to_label[i] for i in y_pred])\n",
    "\n",
    "body_ids = [str(body_inverse_index[body]) for body in val_all[:, 1]]\n",
    "pred_for_cm = np.array([{'Headline': val_all[i, 0], 'Body ID': body_ids[i], 'Stance': predicted[i]} for i in range(len(val_all))])\n",
    "gold_for_cm = np.array([{'Headline': val_all[i, 0], 'Body ID': body_ids[i], 'Stance': val_all[i, 2]} for i in range(len(val_all))])\n",
    "\n",
    "test_score, cm = score_submission(gold_for_cm, pred_for_cm)\n",
    "null_score, max_score = score_defaults(gold_for_cm)\n",
    "print()\n",
    "print_confusion_matrix(cm)\n",
    "print(SCORE_REPORT.format(max_score, null_score, test_score))\n",
    "# linear regression performs better, so that model is chosen for the test set"
   ]
  },
  {
   "cell_type": "code",
   "execution_count": 31,
   "metadata": {},
   "outputs": [],
   "source": [
    "# Load test data from CSV\n",
    "f_tbodies = open('data/competition_test_bodies.csv', 'r', encoding='utf-8')\n",
    "csv_tbodies = csv.DictReader(f_tbodies)\n",
    "tbodies = []\n",
    "for row in csv_tbodies:\n",
    "    body_id = int(row['Body ID'])\n",
    "    if (body_id + 1) > len(tbodies):\n",
    "        tbodies += [None] * (body_id + 1 - len(tbodies))\n",
    "    tbodies[body_id] = row['articleBody']\n",
    "f_tbodies.close()\n",
    "tbody_inverse_index = {tbodies[i]: i for i in range(len(tbodies))}\n",
    "\n",
    "test_all = []  # each article = (headline, body, stance)\n",
    "\n",
    "f_tstances = open('data/competition_test_stances.csv', 'r', encoding='utf-8')\n",
    "csv_tstances = csv.DictReader(f_tstances)\n",
    "for row in csv_tstances:\n",
    "    body = tbodies[int(row['Body ID'])]\n",
    "    test_all.append((row['Headline'], body, row['Stance']))\n",
    "f_tstances.close()\n",
    "\n",
    "#test_all = np.array(test_all)  # for some reason gives MemoryError\n",
    "#print(test_all.shape)"
   ]
  },
  {
   "cell_type": "code",
   "execution_count": 32,
   "metadata": {},
   "outputs": [
    {
     "name": "stderr",
     "output_type": "stream",
     "text": [
      "100%|██████████| 25413/25413 [04:15<00:00, 99.35it/s] \n"
     ]
    },
    {
     "name": "stdout",
     "output_type": "stream",
     "text": [
      "[[0.78758225 1.84940367 0.        ]\n",
      " [0.44744337 1.50340396 0.        ]\n",
      " [0.59893126 1.32746514 0.14596078]\n",
      " [0.5655158  1.17096374 0.        ]\n",
      " [0.73445991 2.1493695  0.        ]]\n"
     ]
    }
   ],
   "source": [
    "# Initialise x (feature vectors) and y for test dataset\n",
    "x_test = np.array([to_feature_array(doc) for doc in tqdm(test_all)])\n",
    "print(x_test[:5])"
   ]
  },
  {
   "cell_type": "code",
   "execution_count": 33,
   "metadata": {},
   "outputs": [
    {
     "name": "stdout",
     "output_type": "stream",
     "text": [
      "[2 2 3 2 2]\n",
      "['unrelated' 'unrelated' 'unrelated' 'unrelated' 'unrelated']\n"
     ]
    }
   ],
   "source": [
    "# Predict y for test set\n",
    "y_test = clf.predict(x_test)\n",
    "print(y_pred[:5])\n",
    "pred_test = np.array([int_to_label[i] for i in y_test])\n",
    "print(pred_test[:5])"
   ]
  },
  {
   "cell_type": "code",
   "execution_count": 34,
   "metadata": {},
   "outputs": [],
   "source": [
    "# Prepare test dataset format for score_submission in scorer.py\n",
    "test_body_ids = [str(tbody_inverse_index[test_all[i][1]]) for i in range(len(test_all))]\n",
    "test_pred_for_cm = np.array([{'Headline': test_all[i][0], 'Body ID': test_body_ids[i], 'Stance': pred_test[i]} for i in range(len(test_all))])\n",
    "test_gold_for_cm = np.array([{'Headline': test_all[i][0], 'Body ID': test_body_ids[i], 'Stance': test_all[i][2]} for i in range(len(test_all))])"
   ]
  },
  {
   "cell_type": "code",
   "execution_count": 35,
   "metadata": {},
   "outputs": [
    {
     "name": "stdout",
     "output_type": "stream",
     "text": [
      "CONFUSION MATRIX:\n",
      "-------------------------------------------------------------\n",
      "|           |   agree   | disagree  |  discuss  | unrelated |\n",
      "-------------------------------------------------------------\n",
      "|   agree   |     0     |     0     |   1513    |    390    |\n",
      "-------------------------------------------------------------\n",
      "| disagree  |     0     |     0     |    438    |    259    |\n",
      "-------------------------------------------------------------\n",
      "|  discuss  |     0     |     0     |   3435    |   1029    |\n",
      "-------------------------------------------------------------\n",
      "| unrelated |     1     |     0     |    162    |   18186   |\n",
      "-------------------------------------------------------------\n",
      "ACCURACY: 0.851\n",
      "\n",
      "MAX  - the best possible score (100% accuracy)\n",
      "NULL - score as if all predicted stances were unrelated\n",
      "TEST - score based on the provided predictions\n",
      "\n",
      "||    MAX    ||    NULL   ||    TEST   ||\n",
      "|| 11651.25  ||  4587.25  ||  8469.25  ||\n",
      "\n"
     ]
    }
   ],
   "source": [
    "# Score using scorer.py (provided in https://github.com/FakeNewsChallenge/fnc-1) on TEST set:\n",
    "test_score, cm = score_submission(test_gold_for_cm, test_pred_for_cm)\n",
    "null_score, max_score = score_defaults(test_gold_for_cm)\n",
    "print_confusion_matrix(cm)\n",
    "print(SCORE_REPORT.format(max_score, null_score, test_score))"
   ]
  },
  {
   "cell_type": "markdown",
   "metadata": {},
   "source": [
    "## Comparison Models"
   ]
  },
  {
   "cell_type": "code",
   "execution_count": 37,
   "metadata": {},
   "outputs": [],
   "source": [
    "from sklearn.linear_model import LogisticRegression\n",
    "from sklearn.neighbors import KNeighborsClassifier\n",
    "from sklearn.svm import SVC\n",
    "from sklearn.naive_bayes import MultinomialNB\n",
    "from sklearn.linear_model import SGDClassifier   \n",
    "from sklearn.discriminant_analysis import QuadraticDiscriminantAnalysis\n",
    "from sklearn.ensemble import RandomForestClassifier, AdaBoostClassifier\n",
    "import xgboost\n",
    "from sklearn.discriminant_analysis import LinearDiscriminantAnalysis\n",
    "from sklearn.naive_bayes import GaussianNB\n",
    "from sklearn.tree import DecisionTreeClassifier\n",
    "from sklearn.semi_supervised import LabelPropagation\n",
    "\n",
    "classifiers=[\n",
    "    (LogisticRegression(penalty='l1'),\"Logistic Regression\"),\n",
    "    (KNeighborsClassifier(5),\"K Nearest Classifier \"),\n",
    "    (SVC(),'Support Vector Machine Classifier'),\n",
    "    (QuadraticDiscriminantAnalysis(),'Qudratic Discriminant Analysis'),\n",
    "    (RandomForestClassifier(max_depth=50, n_estimators=10, max_features=1),'Random Forest Classifier'),\n",
    "    (AdaBoostClassifier(),'Adaboost Classifier'),\n",
    "    (SGDClassifier(),'SGD Classifier'),\n",
    "    (DecisionTreeClassifier(max_depth=5),'Decision Tree Classifier'),\n",
    "    (xgboost.XGBClassifier(learning_rate=0.1),'XG Boost Classifier'),\n",
    "    (LinearDiscriminantAnalysis(),'Linear Discriminant Analysis'),\n",
    "    (GaussianNB(),'Gaussian Naive Bayes '),\n",
    "]"
   ]
  },
  {
   "cell_type": "code",
   "execution_count": 38,
   "metadata": {},
   "outputs": [
    {
     "name": "stderr",
     "output_type": "stream",
     "text": [
      "/home/abhinav/anaconda3/lib/python3.6/site-packages/sklearn/linear_model/logistic.py:433: FutureWarning: Default solver will be changed to 'lbfgs' in 0.22. Specify a solver to silence this warning.\n",
      "  FutureWarning)\n",
      "/home/abhinav/anaconda3/lib/python3.6/site-packages/sklearn/linear_model/logistic.py:460: FutureWarning: Default multi_class will be changed to 'auto' in 0.22. Specify the multi_class option to silence this warning.\n",
      "  \"this warning.\", FutureWarning)\n"
     ]
    },
    {
     "name": "stdout",
     "output_type": "stream",
     "text": [
      "********************\n",
      "Logistic Regression\n",
      "CONFUSION MATRIX:\n",
      "-------------------------------------------------------------\n",
      "|           |   agree   | disagree  |  discuss  | unrelated |\n",
      "-------------------------------------------------------------\n",
      "|   agree   |     0     |     0     |    31     |     6     |\n",
      "-------------------------------------------------------------\n",
      "| disagree  |     0     |     0     |     4     |     5     |\n",
      "-------------------------------------------------------------\n",
      "|  discuss  |     0     |     0     |    78     |    11     |\n",
      "-------------------------------------------------------------\n",
      "| unrelated |     0     |     0     |     1     |    365    |\n",
      "-------------------------------------------------------------\n",
      "ACCURACY: 0.884\n",
      "\n",
      "MAX  - the best possible score (100% accuracy)\n",
      "NULL - score as if all predicted stances were unrelated\n",
      "TEST - score based on the provided predictions\n",
      "\n",
      "||    MAX    ||    NULL   ||    TEST   ||\n",
      "||   226.5   ||   91.5    ||   178.0   ||\n",
      "\n",
      "********************\n",
      "K Nearest Classifier \n",
      "CONFUSION MATRIX:\n",
      "-------------------------------------------------------------\n",
      "|           |   agree   | disagree  |  discuss  | unrelated |\n",
      "-------------------------------------------------------------\n",
      "|   agree   |    10     |     0     |    22     |     5     |\n",
      "-------------------------------------------------------------\n",
      "| disagree  |     1     |     0     |     4     |     4     |\n",
      "-------------------------------------------------------------\n",
      "|  discuss  |     8     |     1     |    75     |     5     |\n",
      "-------------------------------------------------------------\n",
      "| unrelated |     3     |     0     |     4     |    359    |\n",
      "-------------------------------------------------------------\n",
      "ACCURACY: 0.886\n",
      "\n",
      "MAX  - the best possible score (100% accuracy)\n",
      "NULL - score as if all predicted stances were unrelated\n",
      "TEST - score based on the provided predictions\n",
      "\n",
      "||    MAX    ||    NULL   ||    TEST   ||\n",
      "||   226.5   ||   91.5    ||  183.75   ||\n",
      "\n"
     ]
    },
    {
     "name": "stderr",
     "output_type": "stream",
     "text": [
      "/home/abhinav/anaconda3/lib/python3.6/site-packages/sklearn/svm/base.py:196: FutureWarning: The default value of gamma will change from 'auto' to 'scale' in version 0.22 to account better for unscaled features. Set gamma explicitly to 'auto' or 'scale' to avoid this warning.\n",
      "  \"avoid this warning.\", FutureWarning)\n"
     ]
    },
    {
     "name": "stdout",
     "output_type": "stream",
     "text": [
      "********************\n",
      "Support Vector Machine Classifier\n",
      "CONFUSION MATRIX:\n",
      "-------------------------------------------------------------\n",
      "|           |   agree   | disagree  |  discuss  | unrelated |\n",
      "-------------------------------------------------------------\n",
      "|   agree   |     0     |     0     |    31     |     6     |\n",
      "-------------------------------------------------------------\n",
      "| disagree  |     0     |     0     |     4     |     5     |\n",
      "-------------------------------------------------------------\n",
      "|  discuss  |     0     |     0     |    81     |     8     |\n",
      "-------------------------------------------------------------\n",
      "| unrelated |     0     |     0     |     2     |    364    |\n",
      "-------------------------------------------------------------\n",
      "ACCURACY: 0.888\n",
      "\n",
      "MAX  - the best possible score (100% accuracy)\n",
      "NULL - score as if all predicted stances were unrelated\n",
      "TEST - score based on the provided predictions\n",
      "\n",
      "||    MAX    ||    NULL   ||    TEST   ||\n",
      "||   226.5   ||   91.5    ||  180.75   ||\n",
      "\n",
      "********************\n",
      "Qudratic Discriminant Analysis\n",
      "CONFUSION MATRIX:\n",
      "-------------------------------------------------------------\n",
      "|           |   agree   | disagree  |  discuss  | unrelated |\n",
      "-------------------------------------------------------------\n",
      "|   agree   |     2     |     0     |    32     |     3     |\n",
      "-------------------------------------------------------------\n",
      "| disagree  |     0     |     0     |     5     |     4     |\n",
      "-------------------------------------------------------------\n",
      "|  discuss  |     0     |     0     |    83     |     6     |\n",
      "-------------------------------------------------------------\n",
      "| unrelated |     0     |     0     |     9     |    357    |\n",
      "-------------------------------------------------------------\n",
      "ACCURACY: 0.882\n",
      "\n",
      "MAX  - the best possible score (100% accuracy)\n",
      "NULL - score as if all predicted stances were unrelated\n",
      "TEST - score based on the provided predictions\n",
      "\n",
      "||    MAX    ||    NULL   ||    TEST   ||\n",
      "||   226.5   ||   91.5    ||   183.5   ||\n",
      "\n",
      "********************\n",
      "Random Forest Classifier\n",
      "CONFUSION MATRIX:\n",
      "-------------------------------------------------------------\n",
      "|           |   agree   | disagree  |  discuss  | unrelated |\n",
      "-------------------------------------------------------------\n",
      "|   agree   |     9     |     0     |    23     |     5     |\n",
      "-------------------------------------------------------------\n",
      "| disagree  |     0     |     0     |     5     |     4     |\n",
      "-------------------------------------------------------------\n",
      "|  discuss  |    18     |     0     |    64     |     7     |\n",
      "-------------------------------------------------------------\n",
      "| unrelated |     3     |     0     |     5     |    358    |\n",
      "-------------------------------------------------------------\n",
      "ACCURACY: 0.860\n",
      "\n",
      "MAX  - the best possible score (100% accuracy)\n",
      "NULL - score as if all predicted stances were unrelated\n",
      "TEST - score based on the provided predictions\n",
      "\n",
      "||    MAX    ||    NULL   ||    TEST   ||\n",
      "||   226.5   ||   91.5    ||   174.0   ||\n",
      "\n",
      "********************\n",
      "Adaboost Classifier\n",
      "CONFUSION MATRIX:\n",
      "-------------------------------------------------------------\n",
      "|           |   agree   | disagree  |  discuss  | unrelated |\n",
      "-------------------------------------------------------------\n",
      "|   agree   |     1     |     1     |    29     |     6     |\n",
      "-------------------------------------------------------------\n",
      "| disagree  |     0     |     0     |     4     |     5     |\n",
      "-------------------------------------------------------------\n",
      "|  discuss  |     0     |     1     |    83     |     5     |\n",
      "-------------------------------------------------------------\n",
      "| unrelated |     0     |     0     |     9     |    357    |\n",
      "-------------------------------------------------------------\n",
      "ACCURACY: 0.880\n",
      "\n",
      "MAX  - the best possible score (100% accuracy)\n",
      "NULL - score as if all predicted stances were unrelated\n",
      "TEST - score based on the provided predictions\n",
      "\n",
      "||    MAX    ||    NULL   ||    TEST   ||\n",
      "||   226.5   ||   91.5    ||   182.0   ||\n",
      "\n"
     ]
    },
    {
     "name": "stderr",
     "output_type": "stream",
     "text": [
      "/home/abhinav/anaconda3/lib/python3.6/site-packages/sklearn/linear_model/stochastic_gradient.py:166: FutureWarning: max_iter and tol parameters have been added in SGDClassifier in 0.19. If both are left unset, they default to max_iter=5 and tol=None. If tol is not None, max_iter defaults to max_iter=1000. From 0.21, default max_iter will be 1000, and default tol will be 1e-3.\n",
      "  FutureWarning)\n"
     ]
    },
    {
     "name": "stdout",
     "output_type": "stream",
     "text": [
      "********************\n",
      "SGD Classifier\n",
      "CONFUSION MATRIX:\n",
      "-------------------------------------------------------------\n",
      "|           |   agree   | disagree  |  discuss  | unrelated |\n",
      "-------------------------------------------------------------\n",
      "|   agree   |     8     |     0     |    21     |     8     |\n",
      "-------------------------------------------------------------\n",
      "| disagree  |     0     |     0     |     3     |     6     |\n",
      "-------------------------------------------------------------\n",
      "|  discuss  |     6     |     0     |    61     |    22     |\n",
      "-------------------------------------------------------------\n",
      "| unrelated |     0     |     0     |     1     |    365    |\n",
      "-------------------------------------------------------------\n",
      "ACCURACY: 0.866\n",
      "\n",
      "MAX  - the best possible score (100% accuracy)\n",
      "NULL - score as if all predicted stances were unrelated\n",
      "TEST - score based on the provided predictions\n",
      "\n",
      "||    MAX    ||    NULL   ||    TEST   ||\n",
      "||   226.5   ||   91.5    ||  167.75   ||\n",
      "\n",
      "********************\n",
      "Decision Tree Classifier\n",
      "CONFUSION MATRIX:\n",
      "-------------------------------------------------------------\n",
      "|           |   agree   | disagree  |  discuss  | unrelated |\n",
      "-------------------------------------------------------------\n",
      "|   agree   |     1     |     1     |    30     |     5     |\n",
      "-------------------------------------------------------------\n",
      "| disagree  |     0     |     0     |     5     |     4     |\n",
      "-------------------------------------------------------------\n",
      "|  discuss  |     1     |     0     |    80     |     8     |\n",
      "-------------------------------------------------------------\n",
      "| unrelated |     2     |     0     |     5     |    359    |\n",
      "-------------------------------------------------------------\n",
      "ACCURACY: 0.878\n",
      "\n",
      "MAX  - the best possible score (100% accuracy)\n",
      "NULL - score as if all predicted stances were unrelated\n",
      "TEST - score based on the provided predictions\n",
      "\n",
      "||    MAX    ||    NULL   ||    TEST   ||\n",
      "||   226.5   ||   91.5    ||   180.0   ||\n",
      "\n",
      "********************\n",
      "XG Boost Classifier\n",
      "CONFUSION MATRIX:\n",
      "-------------------------------------------------------------\n",
      "|           |   agree   | disagree  |  discuss  | unrelated |\n",
      "-------------------------------------------------------------\n",
      "|   agree   |     0     |     0     |    32     |     5     |\n",
      "-------------------------------------------------------------\n",
      "| disagree  |     0     |     0     |     4     |     5     |\n",
      "-------------------------------------------------------------\n",
      "|  discuss  |     1     |     0     |    83     |     5     |\n",
      "-------------------------------------------------------------\n",
      "| unrelated |     0     |     0     |     7     |    359    |\n",
      "-------------------------------------------------------------\n",
      "ACCURACY: 0.882\n",
      "\n",
      "MAX  - the best possible score (100% accuracy)\n",
      "NULL - score as if all predicted stances were unrelated\n",
      "TEST - score based on the provided predictions\n",
      "\n",
      "||    MAX    ||    NULL   ||    TEST   ||\n",
      "||   226.5   ||   91.5    ||   182.0   ||\n",
      "\n",
      "********************\n",
      "Linear Discriminant Analysis\n",
      "CONFUSION MATRIX:\n",
      "-------------------------------------------------------------\n",
      "|           |   agree   | disagree  |  discuss  | unrelated |\n",
      "-------------------------------------------------------------\n",
      "|   agree   |     0     |     0     |    32     |     5     |\n",
      "-------------------------------------------------------------\n",
      "| disagree  |     0     |     0     |     5     |     4     |\n",
      "-------------------------------------------------------------\n",
      "|  discuss  |     0     |     0     |    83     |     6     |\n",
      "-------------------------------------------------------------\n",
      "| unrelated |     0     |     0     |     7     |    359    |\n",
      "-------------------------------------------------------------\n",
      "ACCURACY: 0.882\n",
      "\n",
      "MAX  - the best possible score (100% accuracy)\n",
      "NULL - score as if all predicted stances were unrelated\n",
      "TEST - score based on the provided predictions\n",
      "\n",
      "||    MAX    ||    NULL   ||    TEST   ||\n",
      "||   226.5   ||   91.5    ||   182.0   ||\n",
      "\n",
      "********************\n",
      "Gaussian Naive Bayes \n",
      "CONFUSION MATRIX:\n",
      "-------------------------------------------------------------\n",
      "|           |   agree   | disagree  |  discuss  | unrelated |\n",
      "-------------------------------------------------------------\n",
      "|   agree   |     1     |     2     |    31     |     3     |\n",
      "-------------------------------------------------------------\n",
      "| disagree  |     0     |     0     |     6     |     3     |\n",
      "-------------------------------------------------------------\n",
      "|  discuss  |     0     |     0     |    82     |     7     |\n",
      "-------------------------------------------------------------\n",
      "| unrelated |     0     |     0     |    11     |    355    |\n",
      "-------------------------------------------------------------\n",
      "ACCURACY: 0.874\n",
      "\n",
      "MAX  - the best possible score (100% accuracy)\n",
      "NULL - score as if all predicted stances were unrelated\n",
      "TEST - score based on the provided predictions\n",
      "\n",
      "||    MAX    ||    NULL   ||    TEST   ||\n",
      "||   226.5   ||   91.5    ||   181.5   ||\n",
      "\n"
     ]
    }
   ],
   "source": [
    "score=[];names=[]\n",
    "\n",
    "for model,name in classifiers:\n",
    "    clf=model.fit(x_train,y_train)\n",
    "    y_pred=clf.predict(x_val)\n",
    "    predicted = np.array([int_to_label[i] for i in y_pred])\n",
    "    body_ids = [str(body_inverse_index[body]) for body in val_all[:, 1]]\n",
    "    pred_for_cm = np.array([{'Headline': val_all[i, 0], 'Body ID': body_ids[i], 'Stance': predicted[i]} for i in range(len(val_all))])\n",
    "    gold_for_cm = np.array([{'Headline': val_all[i, 0], 'Body ID': body_ids[i], 'Stance': val_all[i, 2]} for i in range(len(val_all))])\n",
    "    \n",
    "    test_score, cm = score_submission(gold_for_cm, pred_for_cm)\n",
    "    null_score, max_score = score_defaults(gold_for_cm)\n",
    "    print('*'*20);names.append(name)\n",
    "    print(name)\n",
    "    print_confusion_matrix(cm)\n",
    "    print(SCORE_REPORT.format(max_score, null_score, test_score))\n",
    "score=[88.4,88.6,88.8,88.2,85.8,88.0,88.2,87.8,88.2,88.2,87.4]\n"
   ]
  },
  {
   "cell_type": "code",
   "execution_count": 39,
   "metadata": {},
   "outputs": [
    {
     "data": {
      "image/png": "[encoded data removed]",
      "text/plain": [
       "<Figure size 432x288 with 1 Axes>"
      ]
     },
     "metadata": {
      "needs_background": "light"
     },
     "output_type": "display_data"
    }
   ],
   "source": [
    "names=['LR','KNC','SVC','QDA','RFC','ADC','SGDC','DTC','XGB','LDA','GNB']\n",
    "import seaborn as sns\n",
    "from matplotlib import pyplot as plt\n",
    "fig = plt.figure()\n",
    "ax = fig.add_subplot(111)\n",
    "A = score[:]\n",
    "plt.plot(A)\n",
    "for i, label in enumerate(names):\n",
    "    plt.text(i,A[i], label)\n",
    "plt.show()"
   ]
  },
  {
   "cell_type": "code",
   "execution_count": null,
   "metadata": {},
   "outputs": [],
   "source": []
  },
  {
   "cell_type": "code",
   "execution_count": null,
   "metadata": {},
   "outputs": [],
   "source": []
  }
 ],
 "metadata": {
  "kernelspec": {
   "display_name": "Python 3",
   "language": "python",
   "name": "python3"
  },
  "language_info": {
   "codemirror_mode": {
    "name": "ipython",
    "version": 3
   },
   "file_extension": ".py",
   "mimetype": "text/x-python",
   "name": "python",
   "nbconvert_exporter": "python",
   "pygments_lexer": "ipython3",
   "version": "3.6.8"
  }
 },
 "nbformat": 4,
 "nbformat_minor": 2
}
