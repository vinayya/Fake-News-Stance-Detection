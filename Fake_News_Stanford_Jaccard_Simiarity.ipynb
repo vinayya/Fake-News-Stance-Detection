{
 "cells": [
  {
   "cell_type": "code",
   "execution_count": 1,
   "metadata": {},
   "outputs": [],
   "source": [
    "import os\n",
    "import re\n",
    "import pandas as pd\n",
    "import numpy as np\n",
    "from sklearn.metrics import accuracy_score\n",
    "from sklearn.model_selection import train_test_split\n",
    "from sklearn.ensemble import RandomForestClassifier\n",
    "from nltk.corpus import stopwords"
   ]
  },
  {
   "cell_type": "code",
   "execution_count": 2,
   "metadata": {
    "scrolled": true
   },
   "outputs": [
    {
     "name": "stdout",
     "output_type": "stream",
     "text": [
      "Fake_News_Stanford_Baseline.ipynb\n",
      "Independent LSTM Encoding.ipynb\n",
      "data_combined.csv\n",
      "fnc-1-baseline-master\n",
      "fnc-1-baseline-master.zip\n",
      "fnc-1-master\n",
      "fnc-1-master.zip\n",
      "model_plot.png\n",
      "updated_combined.csv\n"
     ]
    }
   ],
   "source": [
    "!ls"
   ]
  },
  {
   "cell_type": "code",
   "execution_count": 3,
   "metadata": {},
   "outputs": [],
   "source": [
    "DATASET_PATH = os.path.join(os.getcwd(),\"fnc-1-master\",\"\")"
   ]
  },
  {
   "cell_type": "code",
   "execution_count": 4,
   "metadata": {},
   "outputs": [
    {
     "name": "stdout",
     "output_type": "stream",
     "text": [
      "['competition_test_bodies.csv', 'competition_test_stances.csv', 'competition_test_stances_unlabeled.csv', 'README.md', 'scorer.py', 'test_bodies.csv', 'test_stances_unlabeled.csv', 'train_bodies.csv', 'train_stances.csv', 'train_stances.random.csv']\n"
     ]
    }
   ],
   "source": [
    "print(os.listdir(DATASET_PATH))"
   ]
  },
  {
   "cell_type": "markdown",
   "metadata": {},
   "source": [
    "# Problem Statement"
   ]
  },
  {
   "cell_type": "markdown",
   "metadata": {},
   "source": [
    "1. We are given a dataset consisting of two csv files train_bodies.csv which contains the set of news articles bodies,while train-stances.csv resembles the articles for each of these bodies being identified using the body id.\n",
    "\n",
    "2. After training from these samples we need to detect whether the given headline agrees,disagrees,discusses,unrelated with the body id\n"
   ]
  },
  {
   "cell_type": "markdown",
   "metadata": {},
   "source": [
    "## Train Bodies"
   ]
  },
  {
   "cell_type": "code",
   "execution_count": 5,
   "metadata": {},
   "outputs": [
    {
     "data": {
      "text/html": [
       "<div>\n",
       "<style scoped>\n",
       "    .dataframe tbody tr th:only-of-type {\n",
       "        vertical-align: middle;\n",
       "    }\n",
       "\n",
       "    .dataframe tbody tr th {\n",
       "        vertical-align: top;\n",
       "    }\n",
       "\n",
       "    .dataframe thead th {\n",
       "        text-align: right;\n",
       "    }\n",
       "</style>\n",
       "<table border=\"1\" class=\"dataframe\">\n",
       "  <thead>\n",
       "    <tr style=\"text-align: right;\">\n",
       "      <th></th>\n",
       "      <th>Body ID</th>\n",
       "      <th>articleBody</th>\n",
       "    </tr>\n",
       "  </thead>\n",
       "  <tbody>\n",
       "    <tr>\n",
       "      <td>0</td>\n",
       "      <td>0</td>\n",
       "      <td>A small meteorite crashed into a wooded area i...</td>\n",
       "    </tr>\n",
       "    <tr>\n",
       "      <td>1</td>\n",
       "      <td>4</td>\n",
       "      <td>Last week we hinted at what was to come as Ebo...</td>\n",
       "    </tr>\n",
       "    <tr>\n",
       "      <td>2</td>\n",
       "      <td>5</td>\n",
       "      <td>(NEWSER) – Wonder how long a Quarter Pounder w...</td>\n",
       "    </tr>\n",
       "    <tr>\n",
       "      <td>3</td>\n",
       "      <td>6</td>\n",
       "      <td>Posting photos of a gun-toting child online, I...</td>\n",
       "    </tr>\n",
       "    <tr>\n",
       "      <td>4</td>\n",
       "      <td>7</td>\n",
       "      <td>At least 25 suspected Boko Haram insurgents we...</td>\n",
       "    </tr>\n",
       "  </tbody>\n",
       "</table>\n",
       "</div>"
      ],
      "text/plain": [
       "   Body ID                                        articleBody\n",
       "0        0  A small meteorite crashed into a wooded area i...\n",
       "1        4  Last week we hinted at what was to come as Ebo...\n",
       "2        5  (NEWSER) – Wonder how long a Quarter Pounder w...\n",
       "3        6  Posting photos of a gun-toting child online, I...\n",
       "4        7  At least 25 suspected Boko Haram insurgents we..."
      ]
     },
     "execution_count": 5,
     "metadata": {},
     "output_type": "execute_result"
    }
   ],
   "source": [
    "train_bodies = pd.read_csv(DATASET_PATH+'train_bodies.csv')\n",
    "train_bodies.head()"
   ]
  },
  {
   "cell_type": "code",
   "execution_count": 6,
   "metadata": {},
   "outputs": [
    {
     "name": "stdout",
     "output_type": "stream",
     "text": [
      "The number of rows  1683\n",
      "The number of columns 2\n"
     ]
    }
   ],
   "source": [
    "print('The number of rows ',train_bodies.shape[0])\n",
    "print('The number of columns',train_bodies.shape[1])"
   ]
  },
  {
   "cell_type": "markdown",
   "metadata": {},
   "source": [
    "1. There are 1683 rows with two columns BodyId and article Body"
   ]
  },
  {
   "cell_type": "code",
   "execution_count": 7,
   "metadata": {},
   "outputs": [
    {
     "data": {
      "text/html": [
       "<div>\n",
       "<style scoped>\n",
       "    .dataframe tbody tr th:only-of-type {\n",
       "        vertical-align: middle;\n",
       "    }\n",
       "\n",
       "    .dataframe tbody tr th {\n",
       "        vertical-align: top;\n",
       "    }\n",
       "\n",
       "    .dataframe thead th {\n",
       "        text-align: right;\n",
       "    }\n",
       "</style>\n",
       "<table border=\"1\" class=\"dataframe\">\n",
       "  <thead>\n",
       "    <tr style=\"text-align: right;\">\n",
       "      <th></th>\n",
       "      <th>Headline</th>\n",
       "      <th>Body ID</th>\n",
       "      <th>Stance</th>\n",
       "    </tr>\n",
       "  </thead>\n",
       "  <tbody>\n",
       "    <tr>\n",
       "      <td>0</td>\n",
       "      <td>Police find mass graves with at least '15 bodi...</td>\n",
       "      <td>712</td>\n",
       "      <td>unrelated</td>\n",
       "    </tr>\n",
       "    <tr>\n",
       "      <td>1</td>\n",
       "      <td>Hundreds of Palestinians flee floods in Gaza a...</td>\n",
       "      <td>158</td>\n",
       "      <td>agree</td>\n",
       "    </tr>\n",
       "    <tr>\n",
       "      <td>2</td>\n",
       "      <td>Christian Bale passes on role of Steve Jobs, a...</td>\n",
       "      <td>137</td>\n",
       "      <td>unrelated</td>\n",
       "    </tr>\n",
       "    <tr>\n",
       "      <td>3</td>\n",
       "      <td>HBO and Apple in Talks for $15/Month Apple TV ...</td>\n",
       "      <td>1034</td>\n",
       "      <td>unrelated</td>\n",
       "    </tr>\n",
       "    <tr>\n",
       "      <td>4</td>\n",
       "      <td>Spider burrowed through tourist's stomach and ...</td>\n",
       "      <td>1923</td>\n",
       "      <td>disagree</td>\n",
       "    </tr>\n",
       "  </tbody>\n",
       "</table>\n",
       "</div>"
      ],
      "text/plain": [
       "                                            Headline  Body ID     Stance\n",
       "0  Police find mass graves with at least '15 bodi...      712  unrelated\n",
       "1  Hundreds of Palestinians flee floods in Gaza a...      158      agree\n",
       "2  Christian Bale passes on role of Steve Jobs, a...      137  unrelated\n",
       "3  HBO and Apple in Talks for $15/Month Apple TV ...     1034  unrelated\n",
       "4  Spider burrowed through tourist's stomach and ...     1923   disagree"
      ]
     },
     "execution_count": 7,
     "metadata": {},
     "output_type": "execute_result"
    }
   ],
   "source": [
    "train_stance = pd.read_csv(DATASET_PATH+'train_stances.csv')\n",
    "train_stance.head()"
   ]
  },
  {
   "cell_type": "code",
   "execution_count": 8,
   "metadata": {},
   "outputs": [
    {
     "data": {
      "text/plain": [
       "(49972, 3)"
      ]
     },
     "execution_count": 8,
     "metadata": {},
     "output_type": "execute_result"
    }
   ],
   "source": [
    "train_stance.shape"
   ]
  },
  {
   "cell_type": "markdown",
   "metadata": {},
   "source": [
    "## Dataset understanding\n",
    "\n",
    "1. The train_bodies contain the entries for the body id and associated article Body\n",
    "2. The train_stances contain the entries for the headlines associated with the particular body id and its labelled stance\n",
    "3. One body present in train_bodies can have multiple associated headlines present in train_stances and it's corresponding stance label\n",
    "4. 1683 :- Number of article Body present\n",
    "5. 49972 number of total headlines present for the 1683 different article body"
   ]
  },
  {
   "cell_type": "code",
   "execution_count": 9,
   "metadata": {
    "scrolled": true
   },
   "outputs": [
    {
     "name": "stdout",
     "output_type": "stream",
     "text": [
      "<class 'pandas.core.frame.DataFrame'>\n",
      "RangeIndex: 1683 entries, 0 to 1682\n",
      "Data columns (total 2 columns):\n",
      "Body ID        1683 non-null int64\n",
      "articleBody    1683 non-null object\n",
      "dtypes: int64(1), object(1)\n",
      "memory usage: 26.4+ KB\n"
     ]
    }
   ],
   "source": [
    "train_bodies.info()"
   ]
  },
  {
   "cell_type": "code",
   "execution_count": 10,
   "metadata": {},
   "outputs": [
    {
     "name": "stdout",
     "output_type": "stream",
     "text": [
      "<class 'pandas.core.frame.DataFrame'>\n",
      "RangeIndex: 49972 entries, 0 to 49971\n",
      "Data columns (total 3 columns):\n",
      "Headline    49972 non-null object\n",
      "Body ID     49972 non-null int64\n",
      "Stance      49972 non-null object\n",
      "dtypes: int64(1), object(2)\n",
      "memory usage: 1.1+ MB\n"
     ]
    }
   ],
   "source": [
    "train_stance.info()"
   ]
  },
  {
   "cell_type": "code",
   "execution_count": 11,
   "metadata": {},
   "outputs": [
    {
     "data": {
      "text/plain": [
       "1921    187\n",
       "1948    175\n",
       "40      172\n",
       "524     171\n",
       "1549    166\n",
       "       ... \n",
       "376       1\n",
       "140       1\n",
       "307       1\n",
       "1066      1\n",
       "59        1\n",
       "Name: Body ID, Length: 1683, dtype: int64"
      ]
     },
     "execution_count": 11,
     "metadata": {},
     "output_type": "execute_result"
    }
   ],
   "source": [
    "train_stance['Body ID'].value_counts()"
   ]
  },
  {
   "cell_type": "markdown",
   "metadata": {},
   "source": [
    "**Observation**:\n",
    "1. No null entries found in the dataset\n",
    "2. Number of headlines present per article observed above "
   ]
  },
  {
   "cell_type": "code",
   "execution_count": 12,
   "metadata": {},
   "outputs": [],
   "source": [
    "##Run commented code to combine the two csv file{train_bodies.csv,train_stances.csv} into data_combined.csv file\n",
    "\n",
    "# count=0\n",
    "# for i in range(train_stance.shape[0]):\n",
    "#     for j in range(train_bodies.shape[0]):\n",
    "#         if train_bodies.loc[j,'Body ID']==train_stance.loc[i,'Body ID']:\n",
    "#             train_stance.loc[i,'articleBody'] = train_bodies.loc[j,'articleBody']\n",
    "#     if i%100==0:\n",
    "#         count+=1\n",
    "#         print(count,end=' ')\n",
    "\n",
    "# train_stance.to_csv('data_combined.csv',index=False)"
   ]
  },
  {
   "cell_type": "code",
   "execution_count": 13,
   "metadata": {
    "scrolled": false
   },
   "outputs": [
    {
     "data": {
      "text/html": [
       "<div>\n",
       "<style scoped>\n",
       "    .dataframe tbody tr th:only-of-type {\n",
       "        vertical-align: middle;\n",
       "    }\n",
       "\n",
       "    .dataframe tbody tr th {\n",
       "        vertical-align: top;\n",
       "    }\n",
       "\n",
       "    .dataframe thead th {\n",
       "        text-align: right;\n",
       "    }\n",
       "</style>\n",
       "<table border=\"1\" class=\"dataframe\">\n",
       "  <thead>\n",
       "    <tr style=\"text-align: right;\">\n",
       "      <th></th>\n",
       "      <th>Headline</th>\n",
       "      <th>Body ID</th>\n",
       "      <th>Stance</th>\n",
       "      <th>articleBody</th>\n",
       "    </tr>\n",
       "  </thead>\n",
       "  <tbody>\n",
       "    <tr>\n",
       "      <td>0</td>\n",
       "      <td>Police find mass graves with at least '15 bodi...</td>\n",
       "      <td>712</td>\n",
       "      <td>unrelated</td>\n",
       "      <td>Danny Boyle is directing the untitled film\\n\\n...</td>\n",
       "    </tr>\n",
       "    <tr>\n",
       "      <td>1</td>\n",
       "      <td>Hundreds of Palestinians flee floods in Gaza a...</td>\n",
       "      <td>158</td>\n",
       "      <td>agree</td>\n",
       "      <td>Hundreds of Palestinians were evacuated from t...</td>\n",
       "    </tr>\n",
       "    <tr>\n",
       "      <td>2</td>\n",
       "      <td>Christian Bale passes on role of Steve Jobs, a...</td>\n",
       "      <td>137</td>\n",
       "      <td>unrelated</td>\n",
       "      <td>30-year-old Moscow resident was hospitalized w...</td>\n",
       "    </tr>\n",
       "    <tr>\n",
       "      <td>3</td>\n",
       "      <td>HBO and Apple in Talks for $15/Month Apple TV ...</td>\n",
       "      <td>1034</td>\n",
       "      <td>unrelated</td>\n",
       "      <td>(Reuters) - A Canadian soldier was shot at the...</td>\n",
       "    </tr>\n",
       "    <tr>\n",
       "      <td>4</td>\n",
       "      <td>Spider burrowed through tourist's stomach and ...</td>\n",
       "      <td>1923</td>\n",
       "      <td>disagree</td>\n",
       "      <td>Fear not arachnophobes, the story of Bunbury's...</td>\n",
       "    </tr>\n",
       "  </tbody>\n",
       "</table>\n",
       "</div>"
      ],
      "text/plain": [
       "                                            Headline  Body ID     Stance  \\\n",
       "0  Police find mass graves with at least '15 bodi...      712  unrelated   \n",
       "1  Hundreds of Palestinians flee floods in Gaza a...      158      agree   \n",
       "2  Christian Bale passes on role of Steve Jobs, a...      137  unrelated   \n",
       "3  HBO and Apple in Talks for $15/Month Apple TV ...     1034  unrelated   \n",
       "4  Spider burrowed through tourist's stomach and ...     1923   disagree   \n",
       "\n",
       "                                         articleBody  \n",
       "0  Danny Boyle is directing the untitled film\\n\\n...  \n",
       "1  Hundreds of Palestinians were evacuated from t...  \n",
       "2  30-year-old Moscow resident was hospitalized w...  \n",
       "3  (Reuters) - A Canadian soldier was shot at the...  \n",
       "4  Fear not arachnophobes, the story of Bunbury's...  "
      ]
     },
     "execution_count": 13,
     "metadata": {},
     "output_type": "execute_result"
    }
   ],
   "source": [
    "data = pd.read_csv('data_combined.csv')\n",
    "data.head()"
   ]
  },
  {
   "cell_type": "code",
   "execution_count": 14,
   "metadata": {
    "scrolled": false
   },
   "outputs": [
    {
     "data": {
      "text/plain": [
       "unrelated    36545\n",
       "discuss       8909\n",
       "agree         3678\n",
       "disagree       840\n",
       "Name: Stance, dtype: int64"
      ]
     },
     "execution_count": 14,
     "metadata": {},
     "output_type": "execute_result"
    }
   ],
   "source": [
    "data['stance_cat'] = data['Stance'].map({'agree':0,'disagree':1,'discuss':2,'unrelated':3}).astype(int)\n",
    "data['Stance'].value_counts()"
   ]
  },
  {
   "cell_type": "markdown",
   "metadata": {},
   "source": [
    "## Data Preprocessing"
   ]
  },
  {
   "cell_type": "code",
   "execution_count": 15,
   "metadata": {},
   "outputs": [],
   "source": [
    "stopwords_english = set(stopwords.words('english'))\n",
    "data['Headline'] = data.Headline.apply(lambda x:str(x))\n",
    "data.loc[:,'Headline'] = data['Headline'].apply(lambda x : str.lower(x))\n",
    "data.loc[:,'Headline'] = data['Headline'].apply(lambda x:' '.join(re.findall('[\\w]+',x)))\n",
    "data.loc[:,'articleBody'] = data['articleBody'].apply(lambda x : str.lower(x))\n",
    "data.loc[:,'articleBody'] = data['articleBody'].apply(lambda x:' '.join(re.findall('[\\w]+',x)))\n",
    "\n",
    "\n",
    "def remove_stopwords(s):\n",
    "    return ' '.join(word for word in s.split() if word not in stopwords_english)\n",
    "\n",
    "data['Headline'] = data['Headline'].apply(lambda x:remove_stopwords(x))\n",
    "data['articleBody'] = data['articleBody'].apply(lambda x:str(x))\n",
    "data['articleBody'] = data['articleBody'].apply(lambda x:remove_stopwords(x))"
   ]
  },
  {
   "cell_type": "markdown",
   "metadata": {},
   "source": [
    "## Baseline Model"
   ]
  },
  {
   "cell_type": "markdown",
   "metadata": {},
   "source": [
    "### Creating the two class dataset of related/unrelated"
   ]
  },
  {
   "cell_type": "code",
   "execution_count": 16,
   "metadata": {},
   "outputs": [
    {
     "name": "stdout",
     "output_type": "stream",
     "text": [
      "unrelated    36545\n",
      "related      13427\n",
      "Name: stance_base, dtype: int64\n"
     ]
    }
   ],
   "source": [
    "data['stance_base'] = data.loc[data.loc[:,'Stance']=='unrelated','Stance']\n",
    "data['stance_base'] = data['stance_base'].fillna(\"related\")\n",
    "print(data['stance_base'].value_counts())"
   ]
  },
  {
   "cell_type": "code",
   "execution_count": 17,
   "metadata": {},
   "outputs": [
    {
     "data": {
      "text/html": [
       "<div>\n",
       "<style scoped>\n",
       "    .dataframe tbody tr th:only-of-type {\n",
       "        vertical-align: middle;\n",
       "    }\n",
       "\n",
       "    .dataframe tbody tr th {\n",
       "        vertical-align: top;\n",
       "    }\n",
       "\n",
       "    .dataframe thead th {\n",
       "        text-align: right;\n",
       "    }\n",
       "</style>\n",
       "<table border=\"1\" class=\"dataframe\">\n",
       "  <thead>\n",
       "    <tr style=\"text-align: right;\">\n",
       "      <th></th>\n",
       "      <th>Headline</th>\n",
       "      <th>Body ID</th>\n",
       "      <th>Stance</th>\n",
       "      <th>articleBody</th>\n",
       "      <th>stance_cat</th>\n",
       "      <th>stance_base</th>\n",
       "    </tr>\n",
       "  </thead>\n",
       "  <tbody>\n",
       "    <tr>\n",
       "      <td>0</td>\n",
       "      <td>police find mass graves least 15 bodies near m...</td>\n",
       "      <td>712</td>\n",
       "      <td>unrelated</td>\n",
       "      <td>danny boyle directing untitled film seth rogen...</td>\n",
       "      <td>3</td>\n",
       "      <td>unrelated</td>\n",
       "    </tr>\n",
       "    <tr>\n",
       "      <td>1</td>\n",
       "      <td>hundreds palestinians flee floods gaza israel ...</td>\n",
       "      <td>158</td>\n",
       "      <td>agree</td>\n",
       "      <td>hundreds palestinians evacuated homes sunday m...</td>\n",
       "      <td>0</td>\n",
       "      <td>related</td>\n",
       "    </tr>\n",
       "    <tr>\n",
       "      <td>2</td>\n",
       "      <td>christian bale passes role steve jobs actor re...</td>\n",
       "      <td>137</td>\n",
       "      <td>unrelated</td>\n",
       "      <td>30 year old moscow resident hospitalized wound...</td>\n",
       "      <td>3</td>\n",
       "      <td>unrelated</td>\n",
       "    </tr>\n",
       "    <tr>\n",
       "      <td>3</td>\n",
       "      <td>hbo apple talks 15 month apple tv streaming se...</td>\n",
       "      <td>1034</td>\n",
       "      <td>unrelated</td>\n",
       "      <td>reuters canadian soldier shot canadian war mem...</td>\n",
       "      <td>3</td>\n",
       "      <td>unrelated</td>\n",
       "    </tr>\n",
       "    <tr>\n",
       "      <td>4</td>\n",
       "      <td>spider burrowed tourist stomach chest</td>\n",
       "      <td>1923</td>\n",
       "      <td>disagree</td>\n",
       "      <td>fear arachnophobes story bunbury spiderman mig...</td>\n",
       "      <td>1</td>\n",
       "      <td>related</td>\n",
       "    </tr>\n",
       "  </tbody>\n",
       "</table>\n",
       "</div>"
      ],
      "text/plain": [
       "                                            Headline  Body ID     Stance  \\\n",
       "0  police find mass graves least 15 bodies near m...      712  unrelated   \n",
       "1  hundreds palestinians flee floods gaza israel ...      158      agree   \n",
       "2  christian bale passes role steve jobs actor re...      137  unrelated   \n",
       "3  hbo apple talks 15 month apple tv streaming se...     1034  unrelated   \n",
       "4              spider burrowed tourist stomach chest     1923   disagree   \n",
       "\n",
       "                                         articleBody  stance_cat stance_base  \n",
       "0  danny boyle directing untitled film seth rogen...           3   unrelated  \n",
       "1  hundreds palestinians evacuated homes sunday m...           0     related  \n",
       "2  30 year old moscow resident hospitalized wound...           3   unrelated  \n",
       "3  reuters canadian soldier shot canadian war mem...           3   unrelated  \n",
       "4  fear arachnophobes story bunbury spiderman mig...           1     related  "
      ]
     },
     "execution_count": 17,
     "metadata": {},
     "output_type": "execute_result"
    }
   ],
   "source": [
    "data.head()"
   ]
  },
  {
   "cell_type": "code",
   "execution_count": 18,
   "metadata": {},
   "outputs": [],
   "source": [
    "def jaccard_similarity(list1, list2):\n",
    "    s1 = set(list1)\n",
    "    s2 = set(list2)\n",
    "    return len(s1.intersection(s2)) / len(s1.union(s2))"
   ]
  },
  {
   "cell_type": "code",
   "execution_count": 19,
   "metadata": {},
   "outputs": [
    {
     "name": "stdout",
     "output_type": "stream",
     "text": [
      "Processed 1000 Headlines\n",
      "Processed 2000 Headlines\n",
      "Processed 3000 Headlines\n",
      "Processed 4000 Headlines\n",
      "Processed 5000 Headlines\n",
      "Processed 6000 Headlines\n",
      "Processed 7000 Headlines\n",
      "Processed 8000 Headlines\n",
      "Processed 9000 Headlines\n",
      "Processed 10000 Headlines\n",
      "Processed 11000 Headlines\n",
      "Processed 12000 Headlines\n",
      "Processed 13000 Headlines\n",
      "Processed 14000 Headlines\n",
      "Processed 15000 Headlines\n",
      "Processed 16000 Headlines\n",
      "Processed 17000 Headlines\n",
      "Processed 18000 Headlines\n",
      "Processed 19000 Headlines\n",
      "Processed 20000 Headlines\n",
      "Processed 21000 Headlines\n",
      "Processed 22000 Headlines\n",
      "Processed 23000 Headlines\n",
      "Processed 24000 Headlines\n",
      "Processed 25000 Headlines\n",
      "Processed 26000 Headlines\n",
      "Processed 27000 Headlines\n",
      "Processed 28000 Headlines\n",
      "Processed 29000 Headlines\n",
      "Processed 30000 Headlines\n",
      "Processed 31000 Headlines\n",
      "Processed 32000 Headlines\n",
      "Processed 33000 Headlines\n",
      "Processed 34000 Headlines\n",
      "Processed 35000 Headlines\n",
      "Processed 36000 Headlines\n",
      "Processed 37000 Headlines\n",
      "Processed 38000 Headlines\n",
      "Processed 39000 Headlines\n",
      "Processed 40000 Headlines\n",
      "Processed 41000 Headlines\n",
      "Processed 42000 Headlines\n",
      "Processed 43000 Headlines\n",
      "Processed 44000 Headlines\n",
      "Processed 45000 Headlines\n",
      "Processed 46000 Headlines\n",
      "Processed 47000 Headlines\n",
      "Processed 48000 Headlines\n",
      "Processed 49000 Headlines\n",
      "Processed 50000 Headlines\n"
     ]
    }
   ],
   "source": [
    "def add_jaccard_similarity(data):\n",
    "    count=0\n",
    "    for i in range(data.shape[0]):\n",
    "        jaccard_lis=[];eps=0.001\n",
    "        sentence = data.loc[i,'articleBody'].split('.') #per sentence scorer\n",
    "        for j in range(len(sentence)):\n",
    "            jaccard_lis.append(jaccard_similarity(data.loc[i,'Headline'].split(' '),sentence[j].split(' ')))\n",
    "        max_jaccard_similarity = max(jaccard_lis)\n",
    "        avg_jaccard_similarity = sum(jaccard_lis)/len(jaccard_lis)\n",
    "        min_jaccard_similarity = min(jaccard_lis)\n",
    "        data.loc[i,'jaccard_similarity'] = (max_jaccard_similarity+min_jaccard_similarity)/(max_jaccard_similarity-min_jaccard_similarity+eps)\n",
    "        if i%1000==0:\n",
    "            count+=1\n",
    "            print(\"Processed {0} Headlines\".format(count*1000))\n",
    "add_jaccard_similarity(data)    "
   ]
  },
  {
   "cell_type": "code",
   "execution_count": 20,
   "metadata": {
    "scrolled": false
   },
   "outputs": [
    {
     "data": {
      "text/html": [
       "<div>\n",
       "<style scoped>\n",
       "    .dataframe tbody tr th:only-of-type {\n",
       "        vertical-align: middle;\n",
       "    }\n",
       "\n",
       "    .dataframe tbody tr th {\n",
       "        vertical-align: top;\n",
       "    }\n",
       "\n",
       "    .dataframe thead th {\n",
       "        text-align: right;\n",
       "    }\n",
       "</style>\n",
       "<table border=\"1\" class=\"dataframe\">\n",
       "  <thead>\n",
       "    <tr style=\"text-align: right;\">\n",
       "      <th></th>\n",
       "      <th>Headline</th>\n",
       "      <th>Body ID</th>\n",
       "      <th>Stance</th>\n",
       "      <th>articleBody</th>\n",
       "      <th>stance_cat</th>\n",
       "      <th>stance_base</th>\n",
       "      <th>jaccard_similarity</th>\n",
       "    </tr>\n",
       "  </thead>\n",
       "  <tbody>\n",
       "    <tr>\n",
       "      <td>0</td>\n",
       "      <td>police find mass graves least 15 bodies near m...</td>\n",
       "      <td>712</td>\n",
       "      <td>unrelated</td>\n",
       "      <td>danny boyle directing untitled film seth rogen...</td>\n",
       "      <td>3</td>\n",
       "      <td>unrelated</td>\n",
       "      <td>0.000000</td>\n",
       "    </tr>\n",
       "    <tr>\n",
       "      <td>1</td>\n",
       "      <td>hundreds palestinians flee floods gaza israel ...</td>\n",
       "      <td>158</td>\n",
       "      <td>agree</td>\n",
       "      <td>hundreds palestinians evacuated homes sunday m...</td>\n",
       "      <td>0</td>\n",
       "      <td>related</td>\n",
       "      <td>79.545455</td>\n",
       "    </tr>\n",
       "    <tr>\n",
       "      <td>2</td>\n",
       "      <td>christian bale passes role steve jobs actor re...</td>\n",
       "      <td>137</td>\n",
       "      <td>unrelated</td>\n",
       "      <td>30 year old moscow resident hospitalized wound...</td>\n",
       "      <td>3</td>\n",
       "      <td>unrelated</td>\n",
       "      <td>0.000000</td>\n",
       "    </tr>\n",
       "    <tr>\n",
       "      <td>3</td>\n",
       "      <td>hbo apple talks 15 month apple tv streaming se...</td>\n",
       "      <td>1034</td>\n",
       "      <td>unrelated</td>\n",
       "      <td>reuters canadian soldier shot canadian war mem...</td>\n",
       "      <td>3</td>\n",
       "      <td>unrelated</td>\n",
       "      <td>0.000000</td>\n",
       "    </tr>\n",
       "    <tr>\n",
       "      <td>4</td>\n",
       "      <td>spider burrowed tourist stomach chest</td>\n",
       "      <td>1923</td>\n",
       "      <td>disagree</td>\n",
       "      <td>fear arachnophobes story bunbury spiderman mig...</td>\n",
       "      <td>1</td>\n",
       "      <td>related</td>\n",
       "      <td>28.301887</td>\n",
       "    </tr>\n",
       "  </tbody>\n",
       "</table>\n",
       "</div>"
      ],
      "text/plain": [
       "                                            Headline  Body ID     Stance  \\\n",
       "0  police find mass graves least 15 bodies near m...      712  unrelated   \n",
       "1  hundreds palestinians flee floods gaza israel ...      158      agree   \n",
       "2  christian bale passes role steve jobs actor re...      137  unrelated   \n",
       "3  hbo apple talks 15 month apple tv streaming se...     1034  unrelated   \n",
       "4              spider burrowed tourist stomach chest     1923   disagree   \n",
       "\n",
       "                                         articleBody  stance_cat stance_base  \\\n",
       "0  danny boyle directing untitled film seth rogen...           3   unrelated   \n",
       "1  hundreds palestinians evacuated homes sunday m...           0     related   \n",
       "2  30 year old moscow resident hospitalized wound...           3   unrelated   \n",
       "3  reuters canadian soldier shot canadian war mem...           3   unrelated   \n",
       "4  fear arachnophobes story bunbury spiderman mig...           1     related   \n",
       "\n",
       "   jaccard_similarity  \n",
       "0            0.000000  \n",
       "1           79.545455  \n",
       "2            0.000000  \n",
       "3            0.000000  \n",
       "4           28.301887  "
      ]
     },
     "execution_count": 20,
     "metadata": {},
     "output_type": "execute_result"
    }
   ],
   "source": [
    "data.head()"
   ]
  },
  {
   "cell_type": "code",
   "execution_count": 21,
   "metadata": {},
   "outputs": [],
   "source": [
    "data.to_csv('updated_combined.csv',index=False)"
   ]
  },
  {
   "cell_type": "markdown",
   "metadata": {},
   "source": [
    "## Two Class related/unrelated"
   ]
  },
  {
   "cell_type": "code",
   "execution_count": 22,
   "metadata": {},
   "outputs": [
    {
     "data": {
      "text/plain": [
       "unrelated    36545\n",
       "related      13427\n",
       "Name: stance_base, dtype: int64"
      ]
     },
     "execution_count": 22,
     "metadata": {},
     "output_type": "execute_result"
    }
   ],
   "source": [
    "data['stance_base'].value_counts()"
   ]
  },
  {
   "cell_type": "code",
   "execution_count": 23,
   "metadata": {},
   "outputs": [],
   "source": [
    "x = data.iloc[:,-1]\n",
    "y = data['stance_base']\n",
    "xtrain,xtest,ytrain,ytest = train_test_split(x,y,test_size=0.1)\n",
    "rg = RandomForestClassifier(n_estimators=100,n_jobs=-1)"
   ]
  },
  {
   "cell_type": "code",
   "execution_count": 24,
   "metadata": {
    "scrolled": true
   },
   "outputs": [
    {
     "name": "stdout",
     "output_type": "stream",
     "text": [
      "X Training shape (44974,)\n",
      "Y Training shape (44974,)\n"
     ]
    }
   ],
   "source": [
    "print('X Training shape',xtrain.shape)\n",
    "print('Y Training shape',ytrain.shape)\n",
    "xtrain = xtrain.values.reshape(-1,1)\n",
    "xtest = xtest.values.reshape(-1,1)"
   ]
  },
  {
   "cell_type": "code",
   "execution_count": 25,
   "metadata": {
    "scrolled": true
   },
   "outputs": [
    {
     "name": "stdout",
     "output_type": "stream",
     "text": [
      "Accuracy score on two class agree and disagree  0.9419767907162865\n"
     ]
    }
   ],
   "source": [
    "rg.fit(xtrain,ytrain)\n",
    "ypred = rg.predict(xtest)\n",
    "print('Accuracy score on two class agree and disagree ',accuracy_score(ypred,ytest))"
   ]
  },
  {
   "cell_type": "markdown",
   "metadata": {},
   "source": [
    "## Four Class "
   ]
  },
  {
   "cell_type": "code",
   "execution_count": 26,
   "metadata": {},
   "outputs": [
    {
     "data": {
      "text/plain": [
       "unrelated    36545\n",
       "discuss       8909\n",
       "agree         3678\n",
       "disagree       840\n",
       "Name: Stance, dtype: int64"
      ]
     },
     "execution_count": 26,
     "metadata": {},
     "output_type": "execute_result"
    }
   ],
   "source": [
    "data['Stance'].value_counts()"
   ]
  },
  {
   "cell_type": "code",
   "execution_count": 27,
   "metadata": {},
   "outputs": [],
   "source": [
    "x = data.iloc[:,-1]\n",
    "y = data['Stance']\n",
    "xtrain,xtest,ytrain,ytest = train_test_split(x,y,test_size=0.1)\n",
    "rg = RandomForestClassifier(n_estimators=100,n_jobs=-1)"
   ]
  },
  {
   "cell_type": "code",
   "execution_count": 28,
   "metadata": {},
   "outputs": [
    {
     "name": "stdout",
     "output_type": "stream",
     "text": [
      "X Training shape (44974,)\n",
      "Y Training shape (44974,)\n"
     ]
    }
   ],
   "source": [
    "print('X Training shape',xtrain.shape)\n",
    "print('Y Training shape',ytrain.shape)\n",
    "xtrain = xtrain.values.reshape(-1,1)\n",
    "xtest = xtest.values.reshape(-1,1)"
   ]
  },
  {
   "cell_type": "code",
   "execution_count": 29,
   "metadata": {},
   "outputs": [
    {
     "name": "stdout",
     "output_type": "stream",
     "text": [
      "Accuracy score on Four class {agree,disagree,discuss,unrelated} 0.8507402961184474\n"
     ]
    }
   ],
   "source": [
    "rg.fit(xtrain,ytrain)\n",
    "ypred = rg.predict(xtest)\n",
    "print('Accuracy score on Four class {agree,disagree,discuss,unrelated}',accuracy_score(ypred,ytest))"
   ]
  },
  {
   "cell_type": "code",
   "execution_count": null,
   "metadata": {},
   "outputs": [],
   "source": []
  }
 ],
 "metadata": {
  "kernelspec": {
   "display_name": "Python 3",
   "language": "python",
   "name": "python3"
  },
  "language_info": {
   "codemirror_mode": {
    "name": "ipython",
    "version": 3
   },
   "file_extension": ".py",
   "mimetype": "text/x-python",
   "name": "python",
   "nbconvert_exporter": "python",
   "pygments_lexer": "ipython3",
   "version": "3.7.4"
  }
 },
 "nbformat": 4,
 "nbformat_minor": 2
}
